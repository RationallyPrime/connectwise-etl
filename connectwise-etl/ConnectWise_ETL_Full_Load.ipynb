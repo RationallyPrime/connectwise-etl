{
 "cells": [
  {
   "cell_type": "code",
   "execution_count": null,
   "metadata": {},
   "outputs": [],
   "source": [
    "import os\n",
    "from connectwise_etl import run_etl_pipeline"
   ]
  },
  {
   "cell_type": "code",
   "execution_count": null,
   "metadata": {},
   "outputs": [],
   "source": [
    "# Set ConnectWise credentials\n",
    "os.environ[\"CW_AUTH_USERNAME\"] = \"your-username\"\n",
    "os.environ[\"CW_AUTH_PASSWORD\"] = \"your-password\"\n",
    "os.environ[\"CW_CLIENTID\"] = \"your-client-id\""
   ]
  },
  {
   "cell_type": "code",
   "execution_count": null,
   "metadata": {},
   "outputs": [],
   "source": [
    "run_etl_pipeline(\n",
    "    spark=spark,\n",
    "    layers=[\"bronze\", \"silver\", \"gold\"],\n",
    "    mode=\"full\",\n",
    "    lookback_days=30\n",
    ")"
   ]
  }
 ],
 "metadata": {
  "kernelspec": {
   "display_name": "Python 3",
   "language": "python",
   "name": "python3"
  },
  "language_info": {
   "name": "python",
   "version": "3.11.0"
  }
 },
 "nbformat": 4,
 "nbformat_minor": 4
}