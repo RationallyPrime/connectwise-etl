{
 "cells": [
  {
   "cell_type": "code",
   "execution_count": null,
   "id": "8e067515-2ea8-4dbe-9517-b7f2aaa5d6f8",
   "metadata": {
    "microsoft": {
     "language": "python",
     "language_group": "synapse_pyspark"
    }
   },
   "outputs": [],
   "source": [
    "# ---- CELL 1: Install dependencies ----\n",
    "%pip install /lakehouse/default/Files/fabric_api-0.4.0-py3-none-any.whl\n",
    "%pip install sparkdantic"
   ]
  },
  {
   "cell_type": "code",
   "execution_count": 2,
   "id": "56de359f-0666-4ab5-aa9c-9a828ffbf327",
   "metadata": {
    "jupyter": {
     "outputs_hidden": false,
     "source_hidden": false
    },
    "microsoft": {
     "language": "python",
     "language_group": "synapse_pyspark"
    },
    "nteract": {
     "transient": {
      "deleting": false
     }
    }
   },
   "outputs": [
    {
     "data": {
      "application/vnd.livy.statement-meta+json": {
       "execution_finish_time": "2025-05-20T14:27:23.8848666Z",
       "execution_start_time": "2025-05-20T14:27:23.6093125Z",
       "livy_statement_state": "available",
       "normalized_state": "finished",
       "parent_msg_id": "92eef87d-09b8-4eb6-9008-8d31979a262e",
       "queued_time": "2025-05-20T14:26:40.1272179Z",
       "session_id": "db980de1-0d61-450c-8907-e556d3d33e05",
       "session_start_time": null,
       "spark_pool": null,
       "state": "finished",
       "statement_id": 11,
       "statement_ids": [
        11
       ]
      },
      "text/plain": "StatementMeta(, db980de1-0d61-450c-8907-e556d3d33e05, 11, Finished, Available, Finished)"
     },
     "metadata": {},
     "output_type": "display_data"
    }
   ],
   "source": [
    "# ---- CELL 2: Environment setup ----\n",
    "import os\n",
    "import logging\n",
    "from datetime import datetime, timedelta\n",
    "\n",
    "# Configure logging\n",
    "logging.basicConfig(\n",
    "    level=logging.INFO, format=\"%(asctime)s - %(name)s - %(levelname)s - %(message)s\"\n",
    ")\n",
    "logger = logging.getLogger(__name__)\n",
    "\n",
    "# Set credentials from Key Vault (in production) or environment\n",
    "os.environ[\"CW_AUTH_USERNAME\"] = \"thekking+yemGyHDPdJ1hpuqx\"\n",
    "os.environ[\"CW_AUTH_PASSWORD\"] = \"yMqpe26Jcu55FbQk\"\n",
    "os.environ[\"CW_CLIENTID\"] = \"c7ea92d2-eaf5-4bfb-a09c-58d7f9dd7b81\""
   ]
  },
  {
   "cell_type": "code",
   "execution_count": 3,
   "id": "16b52a26-92fa-4700-9a08-9818f647323f",
   "metadata": {
    "jupyter": {
     "outputs_hidden": false,
     "source_hidden": false
    },
    "microsoft": {
     "language": "python",
     "language_group": "synapse_pyspark"
    },
    "nteract": {
     "transient": {
      "deleting": false
     }
    }
   },
   "outputs": [
    {
     "data": {
      "application/vnd.livy.statement-meta+json": {
       "execution_finish_time": "2025-05-20T14:27:25.3398582Z",
       "execution_start_time": "2025-05-20T14:27:23.8866704Z",
       "livy_statement_state": "available",
       "normalized_state": "finished",
       "parent_msg_id": "749e7db2-3904-43f5-b369-36e2efe8c3f5",
       "queued_time": "2025-05-20T14:26:40.1289498Z",
       "session_id": "db980de1-0d61-450c-8907-e556d3d33e05",
       "session_start_time": null,
       "spark_pool": null,
       "state": "finished",
       "statement_id": 12,
       "statement_ids": [
        12
       ]
      },
      "text/plain": "StatementMeta(, db980de1-0d61-450c-8907-e556d3d33e05, 12, Finished, Available, Finished)"
     },
     "metadata": {},
     "output_type": "display_data"
    },
    {
     "name": "stdout",
     "output_type": "stream",
     "text": [
      "API connected: True\n"
     ]
    }
   ],
   "source": [
    "# ---- CELL 3: Initialize Spark and client ----\n",
    "from pyspark.sql import SparkSession\n",
    "from fabric_api.client import ConnectWiseClient\n",
    "\n",
    "spark = SparkSession.getActiveSession() or SparkSession.builder.getOrCreate()\n",
    "client = ConnectWiseClient()\n",
    "\n",
    "# Test connectivity\n",
    "response = client.get(\"/system/info\")\n",
    "print(f\"API connected: {response.status_code == 200}\")"
   ]
  },
  {
   "cell_type": "code",
   "execution_count": 10,
   "id": "c3197484-65d6-435d-86ab-0c077007674c",
   "metadata": {
    "jupyter": {
     "outputs_hidden": false,
     "source_hidden": false
    },
    "microsoft": {
     "language": "python",
     "language_group": "synapse_pyspark"
    },
    "nteract": {
     "transient": {
      "deleting": false
     }
    }
   },
   "outputs": [
    {
     "data": {
      "application/vnd.livy.statement-meta+json": {
       "execution_finish_time": "2025-05-20T14:32:13.0034146Z",
       "execution_start_time": "2025-05-20T14:32:12.692244Z",
       "livy_statement_state": "available",
       "normalized_state": "finished",
       "parent_msg_id": "451aeee1-3139-4cfd-ae50-76e35142951f",
       "queued_time": "2025-05-20T14:32:12.6910999Z",
       "session_id": "db980de1-0d61-450c-8907-e556d3d33e05",
       "session_start_time": null,
       "spark_pool": null,
       "state": "finished",
       "statement_id": 19,
       "statement_ids": [
        19
       ]
      },
      "text/plain": "StatementMeta(, db980de1-0d61-450c-8907-e556d3d33e05, 19, Finished, Available, Finished)"
     },
     "metadata": {},
     "output_type": "display_data"
    }
   ],
   "source": [
    "# ---- CELL 4: Define test parameters ----\n",
    "# Small test dataset\n",
    "test_entities = [\n",
    "    \"Agreement\",\n",
    "    \"TimeEntry\",\n",
    "    \"ExpenseEntry\",\n",
    "    \"ProductItem\",\n",
    "    \"PostedInvoice\",\n",
    "    \"UnpostedInvoice\",\n",
    "]\n",
    "page_size = 1000\n",
    "max_pages = 200  # 1000 records max per entity\n",
    "\n",
    "\n",
    "# Paths\n",
    "bronze_path = \"Tables/bronze\"\n",
    "silver_path = \"Tables/silver\"\n",
    "gold_path = \"Tables/gold\""
   ]
  },
  {
   "cell_type": "code",
   "execution_count": null,
   "id": "399c7c09-8a74-4dea-9391-1c14dc19deec",
   "metadata": {
    "jupyter": {
     "outputs_hidden": false,
     "source_hidden": false
    },
    "microsoft": {
     "language": "python",
     "language_group": "synapse_pyspark"
    },
    "nteract": {
     "transient": {
      "deleting": false
     }
    }
   },
   "outputs": [],
   "source": [
    "# ---- CELL 5: Bronze layer - Overwrite mode ----\n",
    "from fabric_api.pipeline import process_entity_to_bronze\n",
    "\n",
    "print(\"=== BRONZE LAYER - OVERWRITE MODE ===\")\n",
    "bronze_results_overwrite = {}\n",
    "\n",
    "for entity in test_entities:\n",
    "    logger.info(f\"Processing {entity} to bronze (overwrite)...\")\n",
    "    result = process_entity_to_bronze(\n",
    "        entity_name=entity,\n",
    "        client=client,\n",
    "        page_size=page_size,\n",
    "        max_pages=max_pages,\n",
    "        bronze_path=bronze_path,\n",
    "        mode=\"overwrite\",\n",
    "    )\n",
    "    bronze_results_overwrite[entity] = result\n",
    "    print(f\"{entity}: {result['bronze_rows']} rows\")"
   ]
  },
  {
   "cell_type": "code",
   "execution_count": null,
   "id": "b56bb9a2-73b9-446f-9669-d11ad4f21f18",
   "metadata": {
    "jupyter": {
     "outputs_hidden": false,
     "source_hidden": false
    },
    "microsoft": {
     "language": "python",
     "language_group": "synapse_pyspark"
    },
    "nteract": {
     "transient": {
      "deleting": false
     }
    }
   },
   "outputs": [],
   "source": [
    "# ---- CELL 8: Silver layer - Overwrite mode ----\n",
    "from fabric_api.pipeline import process_bronze_to_silver\n",
    "\n",
    "print(\"\\n=== SILVER LAYER - OVERWRITE MODE ===\")\n",
    "silver_results_overwrite = {}\n",
    "\n",
    "for entity in test_entities:\n",
    "    logger.info(f\"Processing {entity} to silver (overwrite)...\")\n",
    "    result = process_bronze_to_silver(\n",
    "        entity_name=entity, bronze_path=bronze_path, silver_path=silver_path, spark=spark\n",
    "    )\n",
    "    silver_results_overwrite[entity] = result\n",
    "    print(f\"{entity}: {result.get('silver_rows', 0)} rows\")"
   ]
  },
  {
   "cell_type": "code",
   "execution_count": null,
   "id": "19205911-9eaf-4be3-9401-f019d33cf7d3",
   "metadata": {
    "jupyter": {
     "outputs_hidden": false,
     "source_hidden": false
    },
    "microsoft": {
     "language": "python",
     "language_group": "synapse_pyspark"
    },
    "nteract": {
     "transient": {
      "deleting": false
     }
    }
   },
   "outputs": [],
   "source": [
    "# ---- CELL 11: Gold layer - Overwrite mode ----\n",
    "from fabric_api.gold.invoice_processing import run_gold_invoice_processing\n",
    "\n",
    "print(\"\\n=== GOLD LAYER - OVERWRITE MODE ===\")\n",
    "gold_results = run_gold_invoice_processing(\n",
    "    silver_path=silver_path, gold_path=gold_path, spark=spark\n",
    ")\n",
    "\n",
    "for table, count in gold_results.items():\n",
    "    print(f\"Gold {table}: {count} rows\")"
   ]
  }
 ],
 "metadata": {
  "dependencies": {
   "lakehouse": {
    "default_lakehouse": "5dfee7c0-bb8c-477d-9e8a-4b866f78a981",
    "default_lakehouse_name": "Testhouse",
    "default_lakehouse_workspace_id": "a3a23dd7-9f52-4b88-b056-46da3617c0b2",
    "known_lakehouses": [
     {
      "id": "5dfee7c0-bb8c-477d-9e8a-4b866f78a981"
     }
    ]
   }
  },
  "kernel_info": {
   "name": "synapse_pyspark"
  },
  "kernelspec": {
   "display_name": "Synapse PySpark",
   "language": "Python",
   "name": "synapse_pyspark"
  },
  "language_info": {
   "name": "python"
  },
  "microsoft": {
   "language": "python",
   "language_group": "synapse_pyspark",
   "ms_spell_check": {
    "ms_spell_check_language": "en"
   }
  },
  "nteract": {
   "version": "nteract-front-end@1.0.0"
  },
  "spark_compute": {
   "compute_id": "/trident/default",
   "session_options": {
    "conf": {
     "spark.synapse.nbs.session.timeout": "1200000"
    }
   }
  },
  "synapse_widget": {
   "state": {},
   "version": "0.1"
  }
 },
 "nbformat": 4,
 "nbformat_minor": 5
}