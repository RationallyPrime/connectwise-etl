{
 "cells": [
  {
   "cell_type": "markdown",
   "metadata": {},
   "source": [
    "# Silver Layer Processing\n",
    "Simple wrapper to process Bronze data through Silver transformations"
   ]
  },
  {
   "cell_type": "code",
   "execution_count": null,
   "metadata": {},
   "outputs": [],
   "source": [
    "# Install updated wheels with YAML configs\n",
    "%pip install /lakehouse/default/Files/unified_etl_core-1.0.0-py3-none-any.whl\n",
    "%pip install /lakehouse/default/Files/unified_etl_connectwise-1.0.0-py3-none-any.whl"
   ]
  },
  {
   "cell_type": "code",
   "execution_count": null,
   "metadata": {},
   "outputs": [],
   "source": [
    "# Process all entities through Silver\n",
    "# Map config entity names to actual table names\n",
    "entity_mapping = {\n",
    "    \"agreement\": \"agreement\",\n",
    "    \"time_entry\": \"timeentry\",\n",
    "    \"expense_entry\": \"expenseentry\",\n",
    "    \"product_item\": \"productitem\",\n",
    "    \"invoice\": \"postedinvoice\",  # Note: this was the 0-record table, may want 'invoice' instead\n",
    "}\n",
    "\n",
    "lakehouse_root = \"/lakehouse/default/Tables/\"\n",
    "\n",
    "for config_entity, table_entity in entity_mapping.items():\n",
    "    bronze_path = f\"{lakehouse_root}bronze/bronze_cw_{table_entity}\"\n",
    "    print(f\"\\nProcessing {config_entity} (from {bronze_path}) through Silver...\")\n",
    "    try:\n",
    "        # Check if Bronze table exists first\n",
    "        df = spark.read.format(\"delta\").load(bronze_path)\n",
    "        count = df.count()\n",
    "        print(f\"  Found {count} records in Bronze\")\n",
    "\n",
    "        if count > 0:\n",
    "            run_bronze_to_silver_pipeline(\n",
    "                entity_name=config_entity,\n",
    "                bronze_table_name=f\"bronze_cw_{table_entity}\",\n",
    "                lakehouse_root=lakehouse_root,\n",
    "            )\n",
    "            print(f\"✅ {config_entity} Silver processing complete\")\n",
    "        else:\n",
    "            print(f\"⚠️  Skipping {config_entity} - no data in Bronze\")\n",
    "    except Exception as e:\n",
    "        print(f\"❌ {config_entity} failed: {e!s}\")"
   ]
  },
  {
   "cell_type": "code",
   "execution_count": null,
   "metadata": {},
   "outputs": [],
   "source": [
    "# Verify Silver tables\n",
    "for config_entity, table_entity in entity_mapping.items():\n",
    "    silver_path = f\"{lakehouse_root}silver/silver_cw_{config_entity}\"\n",
    "    try:\n",
    "        df = spark.read.format(\"delta\").load(silver_path)\n",
    "        count = df.count()\n",
    "        print(f\"{config_entity}: {count} records in Silver\")\n",
    "    except Exception as e:\n",
    "        print(f\"{config_entity}: Error reading Silver table - {e!s}\")"
   ]
  },
  {
   "cell_type": "code",
   "execution_count": null,
   "metadata": {},
   "outputs": [],
   "source": [
    "# Verify Silver tables\n",
    "for entity in entities:\n",
    "    silver_path = f\"{lakehouse_root}silver/silver_cw_{entity}\"\n",
    "    try:\n",
    "        df = spark.read.format(\"delta\").load(silver_path)\n",
    "        count = df.count()\n",
    "        print(f\"{entity}: {count} records in Silver\")\n",
    "    except Exception as e:\n",
    "        print(f\"{entity}: Error reading Silver table - {e!s}\")"
   ]
  }
 ],
 "metadata": {
  "kernelspec": {
   "display_name": "Python 3",
   "language": "python",
   "name": "python3"
  },
  "language_info": {
   "codemirror_mode": {
    "name": "ipython",
    "version": 3
   },
   "file_extension": ".py",
   "mimetype": "text/x-python",
   "name": "python",
   "nbconvert_exporter": "python",
   "pygments_lexer": "ipython3",
   "version": "3.11.0"
  }
 },
 "nbformat": 4,
 "nbformat_minor": 4
}