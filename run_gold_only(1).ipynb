{
 "cells": [
  {
   "cell_type": "markdown",
   "id": "4558b838-e1cf-4949-9fc0-ff37204f5e31",
   "metadata": {},
   "source": [
    "# Run Gold Layer Processing Only\n",
    "\n",
    "This notebook creates fact and dimension tables from existing silver tables."
   ]
  },
  {
   "cell_type": "markdown",
   "id": "e59a48f2-0c24-4994-8b18-9747a463e260",
   "metadata": {},
   "source": [
    "## 1. Install the Wheel Files (if not already installed)"
   ]
  },
  {
   "cell_type": "code",
   "execution_count": 1,
   "id": "0ea0d74b-c863-47ed-b736-4b51b7dfed80",
   "metadata": {
    "microsoft": {
     "language": "python",
     "language_group": "synapse_pyspark"
    }
   },
   "outputs": [
    {
     "data": {
      "application/vnd.livy.statement-meta+json": {
       "execution_finish_time": "2025-05-28T10:46:56.534433Z",
       "execution_start_time": "2025-05-28T10:46:25.136482Z",
       "livy_statement_state": "available",
       "normalized_state": "finished",
       "parent_msg_id": "797a2f28-f136-4ccb-95b6-239b9c54290d",
       "queued_time": "2025-05-28T10:46:12.8445284Z",
       "session_id": "101a9a68-9f17-4a04-9c35-5f19f96d4c60",
       "session_start_time": "2025-05-28T10:46:12.8465205Z",
       "spark_pool": null,
       "state": "finished",
       "statement_id": 9,
       "statement_ids": [
        3,
        4,
        5,
        6,
        7,
        8,
        9
       ]
      },
      "text/plain": "StatementMeta(, 101a9a68-9f17-4a04-9c35-5f19f96d4c60, 9, Finished, Available, Finished)"
     },
     "metadata": {},
     "output_type": "display_data"
    },
    {
     "name": "stdout",
     "output_type": "stream",
     "text": [
      "Processing /lakehouse/default/Files/unified_etl_core-1.0.0-py3-none-any.whl\nCollecting pydantic>=2.11.4 (from unified-etl-core==1.0.0)\n  Downloading pydantic-2.11.5-py3-none-any.whl.metadata (67 kB)\n\u001b[2K     \u001b[90m━━━━━━━━━━━━━━━━━━━━━━━━━━━━━━━━━━━━━━━━\u001b[0m \u001b[32m67.2/67.2 kB\u001b[0m \u001b[31m3.0 MB/s\u001b[0m eta \u001b[36m0:00:00\u001b[0m\n\u001b[?25hRequirement already satisfied: pyyaml>=6.0.0 in /home/trusted-service-user/cluster-env/trident_env/lib/python3.11/site-packages (from unified-etl-core==1.0.0) (6.0.1)\nRequirement already satisfied: requests>=2.28.0 in /home/trusted-service-user/cluster-env/trident_env/lib/python3.11/site-packages (from unified-etl-core==1.0.0) (2.31.0)\nCollecting sparkdantic (from unified-etl-core==1.0.0)\n  Downloading sparkdantic-2.4.0-py3-none-any.whl.metadata (7.6 kB)\nRequirement already satisfied: tenacity>=8.0.0 in /home/trusted-service-user/cluster-env/trident_env/lib/python3.11/site-packages (from unified-etl-core==1.0.0) (8.2.3)\nCollecting annotated-types>=0.6.0 (from pydantic>=2.11.4->unified-etl-core==1.0.0)\n  Downloading annotated_types-0.7.0-py3-none-any.whl.metadata (15 kB)\nCollecting pydantic-core==2.33.2 (from pydantic>=2.11.4->unified-etl-core==1.0.0)\n  Downloading pydantic_core-2.33.2-cp311-cp311-manylinux_2_17_x86_64.manylinux2014_x86_64.whl.metadata (6.8 kB)\nCollecting typing-extensions>=4.12.2 (from pydantic>=2.11.4->unified-etl-core==1.0.0)\n  Downloading typing_extensions-4.13.2-py3-none-any.whl.metadata (3.0 kB)\nCollecting typing-inspection>=0.4.0 (from pydantic>=2.11.4->unified-etl-core==1.0.0)\n  Downloading typing_inspection-0.4.1-py3-none-any.whl.metadata (2.6 kB)\nRequirement already satisfied: charset-normalizer<4,>=2 in /home/trusted-service-user/cluster-env/trident_env/lib/python3.11/site-packages (from requests>=2.28.0->unified-etl-core==1.0.0) (2.0.4)\nRequirement already satisfied: idna<4,>=2.5 in /home/trusted-service-user/cluster-env/trident_env/lib/python3.11/site-packages (from requests>=2.28.0->unified-etl-core==1.0.0) (3.4)\nRequirement already satisfied: urllib3<3,>=1.21.1 in /home/trusted-service-user/cluster-env/trident_env/lib/python3.11/site-packages (from requests>=2.28.0->unified-etl-core==1.0.0) (2.1.0)\nRequirement already satisfied: certifi>=2017.4.17 in /home/trusted-service-user/cluster-env/trident_env/lib/python3.11/site-packages (from requests>=2.28.0->unified-etl-core==1.0.0) (2024.2.2)\nCollecting jmespath<2.0.0,>=1.0.1 (from sparkdantic->unified-etl-core==1.0.0)\n  Downloading jmespath-1.0.1-py3-none-any.whl.metadata (7.6 kB)\nCollecting packaging<26.0,>=24.2 (from sparkdantic->unified-etl-core==1.0.0)\n  Downloading packaging-25.0-py3-none-any.whl.metadata (3.3 kB)\nCollecting pyparsing<4.0.0,>=3.1.1 (from sparkdantic->unified-etl-core==1.0.0)\n  Downloading pyparsing-3.2.3-py3-none-any.whl.metadata (5.0 kB)\nDownloading pydantic-2.11.5-py3-none-any.whl (444 kB)\n\u001b[2K   \u001b[90m━━━━━━━━━━━━━━━━━━━━━━━━━━━━━━━━━━━━━━━━\u001b[0m \u001b[32m444.2/444.2 kB\u001b[0m \u001b[31m8.6 MB/s\u001b[0m eta \u001b[36m0:00:00\u001b[0ma \u001b[36m0:00:01\u001b[0m\n\u001b[?25hDownloading pydantic_core-2.33.2-cp311-cp311-manylinux_2_17_x86_64.manylinux2014_x86_64.whl (2.0 MB)\n\u001b[2K   \u001b[90m━━━━━━━━━━━━━━━━━━━━━━━━━━━━━━━━━━━━━━━━\u001b[0m \u001b[32m2.0/2.0 MB\u001b[0m \u001b[31m13.6 MB/s\u001b[0m eta \u001b[36m0:00:00\u001b[0m00:01\u001b[0m00:01\u001b[0m\n\u001b[?25hDownloading sparkdantic-2.4.0-py3-none-any.whl (10 kB)\nDownloading annotated_types-0.7.0-py3-none-any.whl (13 kB)\nDownloading jmespath-1.0.1-py3-none-any.whl (20 kB)\nDownloading packaging-25.0-py3-none-any.whl (66 kB)\n\u001b[2K   \u001b[90m━━━━━━━━━━━━━━━━━━━━━━━━━━━━━━━━━━━━━━━━\u001b[0m \u001b[32m66.5/66.5 kB\u001b[0m \u001b[31m21.4 MB/s\u001b[0m eta \u001b[36m0:00:00\u001b[0m\n\u001b[?25hDownloading pyparsing-3.2.3-py3-none-any.whl (111 kB)\n\u001b[2K   \u001b[90m━━━━━━━━━━━━━━━━━━━━━━━━━━━━━━━━━━━━━━━━\u001b[0m \u001b[32m111.1/111.1 kB\u001b[0m \u001b[31m27.0 MB/s\u001b[0m eta \u001b[36m0:00:00\u001b[0m\n\u001b[?25hDownloading typing_extensions-4.13.2-py3-none-any.whl (45 kB)\n\u001b[2K   \u001b[90m━━━━━━━━━━━━━━━━━━━━━━━━━━━━━━━━━━━━━━━━\u001b[0m \u001b[32m45.8/45.8 kB\u001b[0m \u001b[31m17.9 MB/s\u001b[0m eta \u001b[36m0:00:00\u001b[0m\n\u001b[?25hDownloading typing_inspection-0.4.1-py3-none-any.whl (14 kB)\nInstalling collected packages: typing-extensions, pyparsing, packaging, jmespath, annotated-types, typing-inspection, pydantic-core, pydantic, sparkdantic, unified-etl-core\n  Attempting uninstall: typing-extensions\n    Found existing installation: typing_extensions 4.9.0\n    Not uninstalling typing-extensions at /home/trusted-service-user/cluster-env/trident_env/lib/python3.11/site-packages, outside environment /nfs4/pyenv-34cb494c-f51e-4915-8a4b-eafd69376a33\n    Can't uninstall 'typing_extensions'. No files were found to uninstall.\n  Attempting uninstall: pyparsing\n    Found existing installation: pyparsing 3.0.9\n    Not uninstalling pyparsing at /home/trusted-service-user/cluster-env/trident_env/lib/python3.11/site-packages, outside environment /nfs4/pyenv-34cb494c-f51e-4915-8a4b-eafd69376a33\n    Can't uninstall 'pyparsing'. No files were found to uninstall.\n  Attempting uninstall: packaging\n    Found existing installation: packaging 23.1\n    Not uninstalling packaging at /home/trusted-service-user/cluster-env/trident_env/lib/python3.11/site-packages, outside environment /nfs4/pyenv-34cb494c-f51e-4915-8a4b-eafd69376a33\n    Can't uninstall 'packaging'. No files were found to uninstall.\n\u001b[31mERROR: pip's dependency resolver does not currently take into account all the packages that are installed. This behaviour is the source of the following dependency conflicts.\nnni 3.0 requires filelock<3.12, but you have filelock 3.13.1 which is incompatible.\nmlflow-skinny 2.12.2 requires packaging<25, but you have packaging 25.0 which is incompatible.\ndatasets 2.19.1 requires fsspec[http]<=2024.3.1,>=2023.1.0, but you have fsspec 2024.6.1 which is incompatible.\nfsspec-wrapper 0.1.15 requires PyJWT>=2.6.0, but you have pyjwt 2.4.0 which is incompatible.\u001b[0m\u001b[31m\n\u001b[0mSuccessfully installed annotated-types-0.7.0 jmespath-1.0.1 packaging-25.0 pydantic-2.11.5 pydantic-core-2.33.2 pyparsing-3.2.3 sparkdantic-2.4.0 typing-extensions-4.13.2 typing-inspection-0.4.1 unified-etl-core-1.0.0\n\n\u001b[1m[\u001b[0m\u001b[34;49mnotice\u001b[0m\u001b[1;39;49m]\u001b[0m\u001b[39;49m A new release of pip is available: \u001b[0m\u001b[31;49m24.0\u001b[0m\u001b[39;49m -> \u001b[0m\u001b[32;49m25.1.1\u001b[0m\n\u001b[1m[\u001b[0m\u001b[34;49mnotice\u001b[0m\u001b[1;39;49m]\u001b[0m\u001b[39;49m To update, run: \u001b[0m\u001b[32;49mpython -m pip install --upgrade pip\u001b[0m\nNote: you may need to restart the kernel to use updated packages.\nProcessing /lakehouse/default/Files/unified_etl_connectwise-1.0.0-py3-none-any.whl\nRequirement already satisfied: pandas>=1.5.0 in /home/trusted-service-user/cluster-env/trident_env/lib/python3.11/site-packages (from unified-etl-connectwise==1.0.0) (2.1.4)\nRequirement already satisfied: requests>=2.28.0 in /home/trusted-service-user/cluster-env/trident_env/lib/python3.11/site-packages (from unified-etl-connectwise==1.0.0) (2.31.0)\nRequirement already satisfied: tenacity>=8.0.0 in /home/trusted-service-user/cluster-env/trident_env/lib/python3.11/site-packages (from unified-etl-connectwise==1.0.0) (8.2.3)\nRequirement already satisfied: unified-etl-core in /nfs4/pyenv-34cb494c-f51e-4915-8a4b-eafd69376a33/lib/python3.11/site-packages (from unified-etl-connectwise==1.0.0) (1.0.0)\nRequirement already satisfied: numpy<2,>=1.23.2 in /home/trusted-service-user/cluster-env/trident_env/lib/python3.11/site-packages (from pandas>=1.5.0->unified-etl-connectwise==1.0.0) (1.26.4)\nRequirement already satisfied: python-dateutil>=2.8.2 in /home/trusted-service-user/cluster-env/trident_env/lib/python3.11/site-packages (from pandas>=1.5.0->unified-etl-connectwise==1.0.0) (2.8.2)\nRequirement already satisfied: pytz>=2020.1 in /home/trusted-service-user/cluster-env/trident_env/lib/python3.11/site-packages (from pandas>=1.5.0->unified-etl-connectwise==1.0.0) (2023.3.post1)\nRequirement already satisfied: tzdata>=2022.1 in /home/trusted-service-user/cluster-env/trident_env/lib/python3.11/site-packages (from pandas>=1.5.0->unified-etl-connectwise==1.0.0) (2023.3)\nRequirement already satisfied: charset-normalizer<4,>=2 in /home/trusted-service-user/cluster-env/trident_env/lib/python3.11/site-packages (from requests>=2.28.0->unified-etl-connectwise==1.0.0) (2.0.4)\nRequirement already satisfied: idna<4,>=2.5 in /home/trusted-service-user/cluster-env/trident_env/lib/python3.11/site-packages (from requests>=2.28.0->unified-etl-connectwise==1.0.0) (3.4)\nRequirement already satisfied: urllib3<3,>=1.21.1 in /home/trusted-service-user/cluster-env/trident_env/lib/python3.11/site-packages (from requests>=2.28.0->unified-etl-connectwise==1.0.0) (2.1.0)\nRequirement already satisfied: certifi>=2017.4.17 in /home/trusted-service-user/cluster-env/trident_env/lib/python3.11/site-packages (from requests>=2.28.0->unified-etl-connectwise==1.0.0) (2024.2.2)\nRequirement already satisfied: pydantic>=2.11.4 in /nfs4/pyenv-34cb494c-f51e-4915-8a4b-eafd69376a33/lib/python3.11/site-packages (from unified-etl-core->unified-etl-connectwise==1.0.0) (2.11.5)\nRequirement already satisfied: pyyaml>=6.0.0 in /home/trusted-service-user/cluster-env/trident_env/lib/python3.11/site-packages (from unified-etl-core->unified-etl-connectwise==1.0.0) (6.0.1)\nRequirement already satisfied: sparkdantic in /nfs4/pyenv-34cb494c-f51e-4915-8a4b-eafd69376a33/lib/python3.11/site-packages (from unified-etl-core->unified-etl-connectwise==1.0.0) (2.4.0)\nRequirement already satisfied: annotated-types>=0.6.0 in /nfs4/pyenv-34cb494c-f51e-4915-8a4b-eafd69376a33/lib/python3.11/site-packages (from pydantic>=2.11.4->unified-etl-core->unified-etl-connectwise==1.0.0) (0.7.0)\nRequirement already satisfied: pydantic-core==2.33.2 in /nfs4/pyenv-34cb494c-f51e-4915-8a4b-eafd69376a33/lib/python3.11/site-packages (from pydantic>=2.11.4->unified-etl-core->unified-etl-connectwise==1.0.0) (2.33.2)\nRequirement already satisfied: typing-extensions>=4.12.2 in /nfs4/pyenv-34cb494c-f51e-4915-8a4b-eafd69376a33/lib/python3.11/site-packages (from pydantic>=2.11.4->unified-etl-core->unified-etl-connectwise==1.0.0) (4.13.2)\nRequirement already satisfied: typing-inspection>=0.4.0 in /nfs4/pyenv-34cb494c-f51e-4915-8a4b-eafd69376a33/lib/python3.11/site-packages (from pydantic>=2.11.4->unified-etl-core->unified-etl-connectwise==1.0.0) (0.4.1)\nRequirement already satisfied: six>=1.5 in /home/trusted-service-user/cluster-env/trident_env/lib/python3.11/site-packages (from python-dateutil>=2.8.2->pandas>=1.5.0->unified-etl-connectwise==1.0.0) (1.16.0)\nRequirement already satisfied: jmespath<2.0.0,>=1.0.1 in /nfs4/pyenv-34cb494c-f51e-4915-8a4b-eafd69376a33/lib/python3.11/site-packages (from sparkdantic->unified-etl-core->unified-etl-connectwise==1.0.0) (1.0.1)\nRequirement already satisfied: packaging<26.0,>=24.2 in /nfs4/pyenv-34cb494c-f51e-4915-8a4b-eafd69376a33/lib/python3.11/site-packages (from sparkdantic->unified-etl-core->unified-etl-connectwise==1.0.0) (25.0)\nRequirement already satisfied: pyparsing<4.0.0,>=3.1.1 in /nfs4/pyenv-34cb494c-f51e-4915-8a4b-eafd69376a33/lib/python3.11/site-packages (from sparkdantic->unified-etl-core->unified-etl-connectwise==1.0.0) (3.2.3)\nInstalling collected packages: unified-etl-connectwise\nSuccessfully installed unified-etl-connectwise-1.0.0\n\n\u001b[1m[\u001b[0m\u001b[34;49mnotice\u001b[0m\u001b[1;39;49m]\u001b[0m\u001b[39;49m A new release of pip is available: \u001b[0m\u001b[31;49m24.0\u001b[0m\u001b[39;49m -> \u001b[0m\u001b[32;49m25.1.1\u001b[0m\n\u001b[1m[\u001b[0m\u001b[34;49mnotice\u001b[0m\u001b[1;39;49m]\u001b[0m\u001b[39;49m To update, run: \u001b[0m\u001b[32;49mpython -m pip install --upgrade pip\u001b[0m\nNote: you may need to restart the kernel to use updated packages.\nWarning: PySpark kernel has been restarted to use updated packages.\n\n"
     ]
    }
   ],
   "source": [
    "# Install the wheel files (skip if already installed)\n",
    "%pip install /lakehouse/default/Files/unified_etl_core-1.0.0-py3-none-any.whl\n",
    "%pip install /lakehouse/default/Files/unified_etl_connectwise-1.0.0-py3-none-any.whl"
   ]
  },
  {
   "cell_type": "markdown",
   "id": "d7c3e9d0-7745-476f-9c8d-bbee2c9cf668",
   "metadata": {},
   "source": [
    "## 2. Check Existing Silver Tables\n",
    "\n",
    "Verify we have silver tables to process:"
   ]
  },
  {
   "cell_type": "markdown",
   "id": "24f0e75c-d52d-4fd5-9bc1-5177e4eb6a47",
   "metadata": {
    "nteract": {
     "transient": {
      "deleting": false
     }
    }
   },
   "source": [
    "# List silver tables in silver schema\n",
    "silver_tables = spark.sql(\"SHOW TABLES IN silver\").collect()\n",
    "print(f\"Found {len(silver_tables)} tables in silver schema:\")\n",
    "\n",
    "# Build silver table mapping and show counts\n",
    "silver_table_mapping = {}\n",
    "for row in silver_tables:\n",
    "    table_name = row.tableName\n",
    "    full_table_name = f\"silver.{table_name}\"\n",
    "    count = spark.sql(f\"SELECT COUNT(*) FROM {full_table_name}\").collect()[0][0]\n",
    "    print(f\"  - {full_table_name}: {count:,} rows\")\n",
    "    \n",
    "    # Extract entity name (e.g., silver_cw_agreement -> agreement)\n",
    "    entity_name = table_name.replace(\"silver_cw_\", \"\")\n",
    "    silver_table_mapping[entity_name] = full_table_name\n",
    "\n",
    "print(f\"\\nEntities to process: {list(silver_table_mapping.keys())}\")"
   ]
  },
  {
   "cell_type": "markdown",
   "id": "b776e157-0e93-44c7-986c-cf41fbbeb9fd",
   "metadata": {},
   "source": [
    "## 3. Run Gold Layer Processing\n",
    "\n",
    "Create fact tables with business logic:"
   ]
  },
  {
   "cell_type": "code",
   "execution_count": 3,
   "id": "0b4d621b-c350-4924-a071-49d33a7bfdd9",
   "metadata": {
    "advisor": {
     "adviceMetadata": "{\"artifactId\":\"80eebed9-c222-4726-9986-52534568d74e\",\"activityId\":\"101a9a68-9f17-4a04-9c35-5f19f96d4c60\",\"applicationId\":\"application_1748428747736_0001\",\"jobGroupId\":\"12\",\"advices\":{\"info\":2,\"warn\":2}}"
    },
    "microsoft": {
     "language": "python",
     "language_group": "synapse_pyspark"
    }
   },
   "outputs": [
    {
     "data": {
      "application/vnd.livy.statement-meta+json": {
       "execution_finish_time": "2025-05-28T10:48:47.6743015Z",
       "execution_start_time": "2025-05-28T10:47:23.9727186Z",
       "livy_statement_state": "available",
       "normalized_state": "finished",
       "parent_msg_id": "9b134366-db5a-41a1-8ab6-203e9e93319f",
       "queued_time": "2025-05-28T10:46:12.8483952Z",
       "session_id": "101a9a68-9f17-4a04-9c35-5f19f96d4c60",
       "session_start_time": null,
       "spark_pool": null,
       "state": "finished",
       "statement_id": 12,
       "statement_ids": [
        12
       ]
      },
      "text/plain": "StatementMeta(, 101a9a68-9f17-4a04-9c35-5f19f96d4c60, 12, Finished, Available, Finished)"
     },
     "metadata": {},
     "output_type": "display_data"
    },
    {
     "name": "stdout",
     "output_type": "stream",
     "text": [
      "🥇 Starting Gold Layer Processing...\nThis will create fact tables with business logic\nProcessing entities: ['agreement', 'invoice', 'expenseentry', 'productitem', 'timeentry']\nWill use ConnectWise-specific transforms for agreement and invoice entities\n"
     ]
    },
    {
     "name": "stderr",
     "output_type": "stream",
     "text": [
      "2025-05-28 10:47:25,002 - root -INFO - ✅ Integration 'connectwise' detected and loaded\n2025-05-28 10:47:25,003 - root -INFO - ⚠️ Integration 'businesscentral' not available (package not installed)\n2025-05-28 10:47:25,004 - root -INFO - ⚠️ Integration 'jira' not available (package not installed)\n2025-05-28 10:47:25,004 - root -INFO - Running ETL pipeline for integrations: ['connectwise']\n2025-05-28 10:47:25,005 - root -INFO - Processing layers: ['gold']\n2025-05-28 10:47:25,005 - root -INFO - Processing integration: connectwise\n2025-05-28 10:47:25,006 - root -INFO - Running gold layer for connectwise\n2025-05-28 10:47:25,011 - root -INFO - Using ConnectWise-specific transforms\n2025-05-28 10:47:25,152 - root -INFO - Using ConnectWise agreement-specific transforms\n2025-05-28 10:47:34,239 - root -INFO - Created fact table gold.gold_cw_fact_agreement_period\n2025-05-28 10:47:39,063 - root -INFO - Created fact table gold.gold_cw_fact_agreement_summary\n2025-05-28 10:47:39,531 - root -INFO - Using ConnectWise invoice-specific transforms\n2025-05-28 10:47:39,701 - unified_etl_connectwise.transforms -INFO - Resolving agreement hierarchy for invoice_lines\n2025-05-28 10:47:51,782 - root -INFO - Created fact table gold.gold_cw_fact_invoice_line\n2025-05-28 10:47:58,225 - root -INFO - Created fact table gold.gold_cw_fact_invoice_header\n2025-05-28 10:48:01,670 - root -INFO - Created fact table gold.gold_cw_fact_invoice_period\n2025-05-28 10:48:01,797 - root -INFO - Using generic fact table creation for expenseentry\n2025-05-28 10:48:08,740 - root -INFO - Created fact table gold.gold_cw_fact_expenseentry\n2025-05-28 10:48:08,857 - root -INFO - Using generic fact table creation for productitem\n2025-05-28 10:48:22,943 - root -INFO - Created fact table gold.gold_cw_fact_productitem\n2025-05-28 10:48:23,058 - root -INFO - Using generic fact table creation for timeentry\n2025-05-28 10:48:45,089 - root -INFO - Created fact table gold.gold_cw_fact_timeentry\n"
     ]
    }
   ],
   "source": [
    "import logging\n",
    "\n",
    "from unified_etl_core.main import run_etl_pipeline\n",
    "\n",
    "# Configure logging\n",
    "logging.basicConfig(\n",
    "    level=logging.INFO, format=\"%(asctime)s - %(name)s -%(levelname)s - %(message)s\"\n",
    ")\n",
    "\n",
    "print(\"🥇 Starting Gold Layer Processing...\")\n",
    "print(\"This will create fact tables with business logic\")\n",
    "\n",
    "# Build table mappings for schema-enabled lakehouse\n",
    "table_mappings = {\n",
    "    \"silver\": silver_table_mapping,  # From previous cell\n",
    "    \"gold\": {},\n",
    "}\n",
    "\n",
    "# Add gold table mappings - these will be used for the fact tables created\n",
    "for entity_name in silver_table_mapping.keys():\n",
    "    table_mappings[\"gold\"][f\"fact_{entity_name}\"] = f\"gold.gold_cw_fact_{entity_name}\"\n",
    "\n",
    "# Also add mappings for specialized fact tables\n",
    "table_mappings[\"gold\"][\"fact_agreement_period\"] = \"gold.gold_cw_fact_agreement_period\"\n",
    "table_mappings[\"gold\"][\"fact_agreement_summary\"] = \"gold.gold_cw_fact_agreement_summary\"\n",
    "table_mappings[\"gold\"][\"fact_invoice_line\"] = \"gold.gold_cw_fact_invoice_line\"\n",
    "table_mappings[\"gold\"][\"fact_invoice_header\"] = \"gold.gold_cw_fact_invoice_header\"\n",
    "table_mappings[\"gold\"][\"fact_invoice_period\"] = \"gold.gold_cw_fact_invoice_period\"\n",
    "\n",
    "# Create entity configurations for gold processing with ConnectWise-specific settings\n",
    "entity_configs = {\n",
    "    \"agreement\": {\n",
    "        \"source\": \"connectwise\",\n",
    "        \"surrogate_keys\": [{\"name\": \"AgreementSK\", \"business_keys\": [\"id\"]}],\n",
    "        \"business_keys\": [{\"name\": \"AgreementBusinessKey\", \"source_columns\": [\"id\"]}],\n",
    "        \"calculated_columns\": {\n",
    "            \"estimated_monthly_revenue\": \"CASE WHEN applicationUnits = 'Amount' THEN COALESCE(applicationLimit, 0) ELSE 0 END\"\n",
    "        },\n",
    "        # ConnectWise-specific transform settings\n",
    "        \"gold_transforms\": {\n",
    "            \"fact_agreement_period\": {\n",
    "                \"date_spine\": {\"start\": \"2020-01-01\", \"frequency\": \"month\"},\n",
    "                \"metrics\": [\n",
    "                    \"is_active_period\",\n",
    "                    \"is_new_agreement\",\n",
    "                    \"is_churned_agreement\",\n",
    "                    \"monthly_revenue\",\n",
    "                    \"prorated_revenue\",\n",
    "                    \"months_since_start\",\n",
    "                    \"revenue_change\",\n",
    "                    \"cumulative_revenue\",\n",
    "                ],\n",
    "                \"keys\": [\n",
    "                    {\n",
    "                        \"name\": \"AgreementPeriodSK\",\n",
    "                        \"type\": \"hash\",\n",
    "                        \"source_columns\": [\"id\", \"period_start\"],\n",
    "                    }\n",
    "                ],\n",
    "            },\n",
    "            \"fact_agreement_summary\": {\n",
    "                \"metrics\": [\n",
    "                    \"lifetime_days\",\n",
    "                    \"lifetime_months\",\n",
    "                    \"estimated_lifetime_value\",\n",
    "                    \"actual_total_revenue\",\n",
    "                    \"actual_avg_monthly_revenue\",\n",
    "                    \"active_periods\",\n",
    "                ],\n",
    "                \"keys\": [{\"name\": \"AgreementSummarySK\", \"type\": \"hash\", \"source_columns\": [\"id\"]}],\n",
    "            },\n",
    "        },\n",
    "    },\n",
    "    \"invoice\": {\n",
    "        \"source\": \"connectwise\",\n",
    "        \"surrogate_keys\": [{\"name\": \"InvoiceSK\", \"business_keys\": [\"id\"]}],\n",
    "        \"business_keys\": [{\"name\": \"InvoiceBusinessKey\", \"source_columns\": [\"id\"]}],\n",
    "        \"calculated_columns\": {},\n",
    "        # ConnectWise-specific invoice transform settings\n",
    "        \"enable_period_facts\": True,\n",
    "        \"period_type\": \"month\",\n",
    "    },\n",
    "}\n",
    "\n",
    "# Add basic configs for other entities without specialized transforms\n",
    "for entity in silver_table_mapping.keys():\n",
    "    if entity not in entity_configs:\n",
    "        entity_configs[entity] = {\n",
    "            \"source\": \"connectwise\",\n",
    "            \"surrogate_keys\": [{\"name\": f\"{entity.title()}SK\", \"business_keys\": [\"id\"]}],\n",
    "            \"business_keys\": [{\"name\": f\"{entity.title()}BusinessKey\", \"source_columns\": [\"id\"]}],\n",
    "            \"calculated_columns\": {},\n",
    "        }\n",
    "\n",
    "config = {\"entities\": entity_configs}\n",
    "\n",
    "print(f\"Processing entities: {list(entity_configs.keys())}\")\n",
    "print(\"Will use ConnectWise-specific transforms for agreement and invoice entities\")\n",
    "\n",
    "# Run Gold layer with proper table mappings\n",
    "run_etl_pipeline(\n",
    "    integrations=[\"connectwise\"], layers=[\"gold\"], config=config, table_mappings=table_mappings\n",
    ")"
   ]
  },
  {
   "cell_type": "markdown",
   "id": "26007648-c0d0-4a53-b1a6-ce42ec5b5a53",
   "metadata": {},
   "source": [
    "## 4. Verify Gold Tables"
   ]
  },
  {
   "cell_type": "code",
   "execution_count": 4,
   "id": "3f50f932-9eff-4c7b-b861-13b001c4a07f",
   "metadata": {
    "microsoft": {
     "language": "python",
     "language_group": "synapse_pyspark"
    }
   },
   "outputs": [
    {
     "data": {
      "application/vnd.livy.statement-meta+json": {
       "execution_finish_time": "2025-05-28T10:49:47.5988821Z",
       "execution_start_time": "2025-05-28T10:48:47.676465Z",
       "livy_statement_state": "available",
       "normalized_state": "finished",
       "parent_msg_id": "95bf754b-f9db-407d-a5fb-f458d726456e",
       "queued_time": "2025-05-28T10:46:12.8500113Z",
       "session_id": "101a9a68-9f17-4a04-9c35-5f19f96d4c60",
       "session_start_time": null,
       "spark_pool": null,
       "state": "finished",
       "statement_id": 13,
       "statement_ids": [
        13
       ]
      },
      "text/plain": "StatementMeta(, 101a9a68-9f17-4a04-9c35-5f19f96d4c60, 13, Finished, Available, Finished)"
     },
     "metadata": {},
     "output_type": "display_data"
    },
    {
     "name": "stdout",
     "output_type": "stream",
     "text": [
      "Found 9 tables in gold schema:\n\ngold.gold_cw_fact_agreement_period:\n  Rows: 72,925\n  Columns: 29\n  Sample data (period_start, period_end, year, month, quarter, id, AgreementPeriodSK):\n+------------+----------+----+-----+-------+---+----------------------------------------------------------------+\n|period_start|period_end|year|month|quarter|id |AgreementPeriodSK                                               |\n+------------+----------+----+-----+-------+---+----------------------------------------------------------------+\n|2020-01-01  |2020-01-31|2020|1    |1      |920|9a58b7dd2318fcfaf7dfc8ee43e6f281e2272f5af9f632523292a64e17d4ff8f|\n|2020-03-01  |2020-03-31|2020|3    |1      |920|81d45f836f21d27e4ea584e97643a586f45b7a014b4112f79e0ffe28daeac1eb|\n|2020-05-01  |2020-05-31|2020|5    |2      |920|90ec29fc07a1f87e075bf2b3c0eacd2e933ae3032246566e6b401790e0086b75|\n|2020-07-01  |2020-07-31|2020|7    |3      |920|993067ccadbe2231ceb66c844e6c851b011ce9b1c60d22e268d4272de2e992b3|\n|2020-08-01  |2020-08-31|2020|8    |3      |920|f91476d8990403cff81ff4e04782ab6035c0a292055475d81a5f68b3edc29393|\n+------------+----------+----+-----+-------+---+----------------------------------------------------------------+\nonly showing top 5 rows\n\n\ngold.gold_cw_fact_agreement_summary:\n  Rows: 1,933\n  Columns: 22\n  Sample data (id, name, agreementStatus, typeId, typeName, AgreementSummarySK):\n+----+--------+---------------+------+---------+----------------------------------------------------------------+\n|id  |name    |agreementStatus|typeId|typeName |AgreementSummarySK                                              |\n+----+--------+---------------+------+---------+----------------------------------------------------------------+\n|1432|Þjónusta|Expired        |47    |yÞjónusta|1c053d3970411ca6bf88c28c07c635079acad2c969baf0ecccf3f53918320eb9|\n|280 |Þjónusta|Expired        |47    |yÞjónusta|7f0a22117f8fe0172cf9209ff622b64a51aaeda21d58b5b62685a93dbe2dad25|\n|287 |Þjónusta|Expired        |47    |yÞjónusta|d7cdaa5ca0582076c8e772cce739e32c5077cfd24f2ea33f04bb754594989a56|\n|305 |Þjónusta|Expired        |47    |yÞjónusta|090d3859ff6840b2280f4708cf08cdaed873d967183a4d1deedc1a7964a21eee|\n|314 |Þjónusta|Expired        |47    |yÞjónusta|748064be03a08df81e31bd6f9e7e7c4cc9f84b4401b9a3c6e85b7ff816d3ba68|\n+----+--------+---------------+------+---------+----------------------------------------------------------------+\nonly showing top 5 rows\n\n\ngold.gold_cw_fact_expenseentry:\n  Rows: 14,188\n  Columns: 83\n  Sample data (id, expenseReportId, expenseReportName, expenseReport_info, companyId, ExpenseentrySK):\n+----+---------------+------------------------+------------------+---------+--------------+\n|id  |expenseReportId|expenseReportName       |expenseReport_info|companyId|ExpenseentrySK|\n+----+---------------+------------------------+------------------+---------+--------------+\n|2485|1014           |2019-07-01 to 2019-07-07|NULL              |19576    |2400          |\n|2486|1014           |2019-07-01 to 2019-07-07|NULL              |19576    |2401          |\n|2487|1014           |2019-07-01 to 2019-07-07|NULL              |19576    |2402          |\n|2488|1014           |2019-07-01 to 2019-07-07|NULL              |19576    |2403          |\n|2724|1043           |2019-08-12 to 2019-08-18|NULL              |19576    |2634          |\n+----+---------------+------------------------+------------------+---------+--------------+\nonly showing top 5 rows\n\n\ngold.gold_cw_fact_invoice:\n  Rows: 37,294\n  Columns: 145\n  Sample data (id, invoiceNumber, type, statusId, statusName, InvoiceSK):\n+----+-------------+--------+--------+----------+---------+\n|id  |invoiceNumber|type    |statusId|statusName|InvoiceSK|\n+----+-------------+--------+--------+----------+---------+\n|667 |1667         |Standard|13      |Closed    |625      |\n|1316|2316         |Standard|13      |Closed    |1119     |\n|4798|5798         |Standard|13      |Closed    |3779     |\n|4914|5914         |Standard|13      |Closed    |3895     |\n|5639|6639         |Standard|13      |Closed    |4612     |\n+----+-------------+--------+--------+----------+---------+\nonly showing top 5 rows\n\n\ngold.gold_cw_fact_invoice_header:\n  Rows: 37,294\n  Columns: 27\n  Sample data (InvoiceSK, AgreementSK, id, invoiceNumber, statusName):\n+----------------------------------------------------------------+----------------------------------------------------------------+-----+-------------+----------------+\n|InvoiceSK                                                       |AgreementSK                                                     |id   |invoiceNumber|statusName      |\n+----------------------------------------------------------------+----------------------------------------------------------------+-----+-------------+----------------+\n|8d8f85d9f6475fac5437cc95bfea39f2e9b4400d89e3f3fe9fc064aa68d54388|1bad6b8cf97131fceab8543e81f7757195fbb1d36b376ee994ad1cf17699c464|14829|15829        |Closed - Emailed|\n|74e31b3d3e493faf99652cdbc294b72e5fed6031cebdaa09981ad6aa78ef34d4|1bad6b8cf97131fceab8543e81f7757195fbb1d36b376ee994ad1cf17699c464|7405 |8405         |Closed          |\n|e18fe13db69f094da76d1ba802042e793327b339b9d8626db18ec4120f2edaf3|1bad6b8cf97131fceab8543e81f7757195fbb1d36b376ee994ad1cf17699c464|9696 |10696        |Closed          |\n|a4c903b969fdb62ee56690152f390c81a416da2c5fa9f42bd79a0a4d2c244d07|328c58f0f1726122097e75379a5d2ff5fe7b7c88799fb09ea3fe62ab269a1192|31553|32553        |Closed          |\n|0bf9c0f1f3fb16dd33a57c1aeb22150c992404799476dfec32bababec48f325f|1bad6b8cf97131fceab8543e81f7757195fbb1d36b376ee994ad1cf17699c464|27354|28354        |Closed          |\n+----------------------------------------------------------------+----------------------------------------------------------------+-----+-------------+----------------+\nonly showing top 5 rows\n\n\ngold.gold_cw_fact_invoice_line:\n  Rows: 463,379\n  Columns: 33\n  Sample data (InvoiceLineSK, InvoiceSK, agreementId, AgreementSK, invoiceId):\n+----------------------------------------------------------------+----------------------------------------------------------------+-----------+----------------------------------------------------------------+---------+\n|InvoiceLineSK                                                   |InvoiceSK                                                       |agreementId|AgreementSK                                                     |invoiceId|\n+----------------------------------------------------------------+----------------------------------------------------------------+-----------+----------------------------------------------------------------+---------+\n|28f76d8783dda5467634af6dc7996f9204f51aef2e6851671eed82b211b782f1|829b914d54b63b5a75427ae29737f1925da2ee6b140292575284182aed8603ab|1931       |5c06e46c5e47cfacad16ce1e37f17c09fdbc7072c567613e0b8112173f688a65|36218    |\n|4a0cf852c87e6d9d3612c03ff73637d8f513868c80c64bd6fec46856f526bd2a|829b914d54b63b5a75427ae29737f1925da2ee6b140292575284182aed8603ab|1931       |5c06e46c5e47cfacad16ce1e37f17c09fdbc7072c567613e0b8112173f688a65|36218    |\n|68e36d1b6cd93bb29147ac74a2d23e19077b44a8494e1e632f74b9f247a75d8a|e71fb4c683b8e0d270c9b0a5cd9e0ec03faa4564fbfeff17b4510b1261e5bfdc|1931       |5c06e46c5e47cfacad16ce1e37f17c09fdbc7072c567613e0b8112173f688a65|36589    |\n|27f1bb8881acd456c73da3729d1b4d69dcdf27ee9db7de42f06122b12ba586f9|e71fb4c683b8e0d270c9b0a5cd9e0ec03faa4564fbfeff17b4510b1261e5bfdc|1931       |5c06e46c5e47cfacad16ce1e37f17c09fdbc7072c567613e0b8112173f688a65|36589    |\n|fd093b903d201e099f55517fb0680f21ff4ed76584194f427621aca39cb72669|c35c8762db66257c9254b8ed09789d0c20692e07f01cb81f322aa07eb85b81f1|1931       |5c06e46c5e47cfacad16ce1e37f17c09fdbc7072c567613e0b8112173f688a65|37080    |\n+----------------------------------------------------------------+----------------------------------------------------------------+-----------+----------------------------------------------------------------+---------+\nonly showing top 5 rows\n\n\ngold.gold_cw_fact_invoice_period:\n  Rows: 37,294\n  Columns: 19\n  Sample data (id, invoiceNumber, date, total, agreementId, InvoicePeriodSK):\n+-----+-------------+-------------------+--------+-----------+----------------------------------------------------------------+\n|id   |invoiceNumber|date               |total   |agreementId|InvoicePeriodSK                                                 |\n+-----+-------------+-------------------+--------+-----------+----------------------------------------------------------------+\n|21393|22393        |2022-03-31 00:00:00|73016.89|1060       |81b99e27ce3bea169e8a04c6398a166e6ee76b2114cadd1097cb6e960a46a187|\n|21385|22385        |2022-03-31 00:00:00|73016.89|1052       |52e621088099165e5d75bf498524134961f3a3645a61cefae7c81dc880695b8e|\n|21376|22376        |2022-03-31 00:00:00|73016.89|1043       |92412a2b96f254ddd03c7003f82212db0362c99f8e6e21c8a49c8ec11e3a7554|\n|21374|22374        |2022-03-31 00:00:00|73016.89|1041       |62755f7db4ce562a03818ac3306e386e77635b26a5751715cd1df7bafcefdcc3|\n|21370|22370        |2022-03-31 00:00:00|73016.89|1037       |5b46ec4e91a1b35af60ae02d90b7a53a34058612b4f35b8c59b52c9ea74b430e|\n+-----+-------------+-------------------+--------+-----------+----------------------------------------------------------------+\nonly showing top 5 rows\n\n\ngold.gold_cw_fact_productitem:\n  Rows: 379,748\n  Columns: 153\n  Sample data (id, catalogItemId, catalogItemIdentifier, catalogItemName, catalogItem_info, ProductitemSK):\n+------+-------------+---------------------+---------------+----------------+-------------+\n|id    |catalogItemId|catalogItemIdentifier|catalogItemName|catalogItem_info|ProductitemSK|\n+------+-------------+---------------------+---------------+----------------+-------------+\n|104557|241          |Server backup agent  |NULL           |NULL            |95839        |\n|69293 |63           |SOFT1111             |NULL           |NULL            |60704        |\n|77418 |175          |NETW2216             |NULL           |NULL            |68761        |\n|108609|90           |7NQ-00302            |NULL           |NULL            |99891        |\n|237912|219          |RENT1011             |NULL           |NULL            |227054       |\n+------+-------------+---------------------+---------------+----------------+-------------+\nonly showing top 5 rows\n\n\ngold.gold_cw_fact_timeentry:\n  Rows: 535,963\n  Columns: 109\n  Sample data (id, companyId, companyIdentifier, companyName, company_info, TimeentrySK):\n+------+---------+-----------------+-----------+------------+-----------+\n|id    |companyId|companyIdentifier|companyName|company_info|TimeentrySK|\n+------+---------+-----------------+-----------+------------+-----------+\n|487521|250      |THE              |Þekking    |NULL        |482896     |\n|487871|250      |THE              |Þekking    |NULL        |483244     |\n|488877|250      |THE              |Þekking    |NULL        |484246     |\n|489870|250      |THE              |Þekking    |NULL        |485232     |\n|490330|250      |THE              |Þekking    |NULL        |485689     |\n+------+---------+-----------------+-----------+------------+-----------+\nonly showing top 5 rows\n\n"
     ]
    }
   ],
   "source": [
    "# Check gold tables\n",
    "gold_tables = spark.sql(\"SHOW TABLES IN gold\").collect()\n",
    "print(f\"Found {len(gold_tables)} tables in gold schema:\")\n",
    "\n",
    "for row in gold_tables:\n",
    "    table_name = row.tableName\n",
    "    full_table_name = f\"gold.{table_name}\"\n",
    "    df = spark.sql(f\"SELECT * FROM {full_table_name}\")\n",
    "    count = df.count()\n",
    "    print(f\"\\n{full_table_name}:\")\n",
    "    print(f\"  Rows: {count:,}\")\n",
    "    print(f\"  Columns: {len(df.columns)}\")\n",
    "\n",
    "    # Show a few sample columns with data\n",
    "    sample_cols = df.columns[:5]\n",
    "    if \"id\" in df.columns and \"id\" not in sample_cols:\n",
    "        sample_cols.append(\"id\")\n",
    "    if any(\"SK\" in col for col in df.columns):\n",
    "        sk_col = next(col for col in df.columns if \"SK\" in col)\n",
    "        if sk_col not in sample_cols:\n",
    "            sample_cols.append(sk_col)\n",
    "\n",
    "    print(f\"  Sample data ({', '.join(sample_cols)}):\")\n",
    "    df.select(*sample_cols).show(5, truncate=False)"
   ]
  },
  {
   "cell_type": "markdown",
   "id": "4ccfa6bf-d781-48bc-8a44-dcd31ce7408d",
   "metadata": {},
   "source": [
    "## 5. Performance Summary"
   ]
  },
  {
   "cell_type": "code",
   "execution_count": 5,
   "id": "5bf1f496-54a4-470b-a283-43e019e7146e",
   "metadata": {
    "microsoft": {
     "language": "python",
     "language_group": "synapse_pyspark"
    }
   },
   "outputs": [
    {
     "data": {
      "application/vnd.livy.statement-meta+json": {
       "execution_finish_time": "2025-05-28T10:50:02.4395552Z",
       "execution_start_time": "2025-05-28T10:49:47.6011411Z",
       "livy_statement_state": "available",
       "normalized_state": "finished",
       "parent_msg_id": "cb742830-06e9-493f-a1ba-cb8feae1bc18",
       "queued_time": "2025-05-28T10:46:12.8517085Z",
       "session_id": "101a9a68-9f17-4a04-9c35-5f19f96d4c60",
       "session_start_time": null,
       "spark_pool": null,
       "state": "finished",
       "statement_id": 14,
       "statement_ids": [
        14
       ]
      },
      "text/plain": "StatementMeta(, 101a9a68-9f17-4a04-9c35-5f19f96d4c60, 14, Finished, Available, Finished)"
     },
     "metadata": {},
     "output_type": "display_data"
    },
    {
     "name": "stdout",
     "output_type": "stream",
     "text": [
      "\n📊 Gold Layer Processing Summary\n==================================================\n\nBRONZE Schema:\n  Tables: 5\n  Total rows: 969,126\n    - bronze_cw_agreement: 1,933 rows\n    - bronze_cw_expenseentry: 14,188 rows\n    - bronze_cw_invoice: 37,294 rows\n    - bronze_cw_productitem: 379,748 rows\n    - bronze_cw_timeentry: 535,963 rows\n\nSILVER Schema:\n  Tables: 5\n  Total rows: 969,126\n    - silver_cw_agreement: 1,933 rows\n    - silver_cw_expenseentry: 14,188 rows\n    - silver_cw_invoice: 37,294 rows\n    - silver_cw_productitem: 379,748 rows\n    - silver_cw_timeentry: 535,963 rows\n\nGOLD Schema:\n  Tables: 9\n  Total rows: 1,580,018\n    - gold_cw_fact_agreement_period: 72,925 rows\n    - gold_cw_fact_agreement_summary: 1,933 rows\n    - gold_cw_fact_expenseentry: 14,188 rows\n    - gold_cw_fact_invoice: 37,294 rows\n    - gold_cw_fact_invoice_header: 37,294 rows\n    - gold_cw_fact_invoice_line: 463,379 rows\n    - gold_cw_fact_invoice_period: 37,294 rows\n    - gold_cw_fact_productitem: 379,748 rows\n    - gold_cw_fact_timeentry: 535,963 rows\n\n✅ Gold layer complete - ready for reporting and analytics!\n"
     ]
    }
   ],
   "source": [
    "print(\"\\n📊 Gold Layer Processing Summary\")\n",
    "print(\"=\" * 50)\n",
    "\n",
    "# Get row counts for each schema\n",
    "for schema in [\"bronze\", \"silver\", \"gold\"]:\n",
    "    tables = spark.sql(f\"SHOW TABLES IN {schema}\").collect()\n",
    "    total_rows = 0\n",
    "    table_details = []\n",
    "\n",
    "    for row in tables:\n",
    "        table_name = row.tableName\n",
    "        full_name = f\"{schema}.{table_name}\"\n",
    "        count = spark.sql(f\"SELECT COUNT(*) FROM {full_name}\").collect()[0][0]\n",
    "        total_rows += count\n",
    "        table_details.append((table_name, count))\n",
    "\n",
    "    print(f\"\\n{schema.upper()} Schema:\")\n",
    "    print(f\"  Tables: {len(tables)}\")\n",
    "    print(f\"  Total rows: {total_rows:,}\")\n",
    "    for table, count in sorted(table_details):\n",
    "        print(f\"    - {table}: {count:,} rows\")\n",
    "\n",
    "print(\"\\n✅ Gold layer complete - ready for reporting and analytics!\")"
   ]
  },
  {
   "cell_type": "code",
   "execution_count": 7,
   "id": "878573d7-0325-4546-90cf-196b22a4b94d",
   "metadata": {
    "microsoft": {
     "language": "python",
     "language_group": "synapse_pyspark"
    }
   },
   "outputs": [
    {
     "data": {
      "application/vnd.livy.statement-meta+json": {
       "execution_finish_time": "2025-05-28T10:52:23.1495227Z",
       "execution_start_time": "2025-05-28T10:52:20.5871315Z",
       "livy_statement_state": "available",
       "normalized_state": "finished",
       "parent_msg_id": "6fba94b6-34fe-40f5-a14d-d7f86217094b",
       "queued_time": "2025-05-28T10:52:20.585977Z",
       "session_id": "101a9a68-9f17-4a04-9c35-5f19f96d4c60",
       "session_start_time": null,
       "spark_pool": null,
       "state": "finished",
       "statement_id": 16,
       "statement_ids": [
        16
       ]
      },
      "text/plain": "StatementMeta(, 101a9a68-9f17-4a04-9c35-5f19f96d4c60, 16, Finished, Available, Finished)"
     },
     "metadata": {},
     "output_type": "display_data"
    },
    {
     "name": "stdout",
     "output_type": "stream",
     "text": [
      "🥇 GOLD LAYER SCHEMAS\n==================================================\n\n📊 AGREEMENT FACTS\n------------------------------\nAgreement Period Facts (Monthly grain):\nroot\n |-- period_start: date (nullable = true)\n |-- period_end: date (nullable = true)\n |-- year: integer (nullable = true)\n |-- month: integer (nullable = true)\n |-- quarter: integer (nullable = true)\n |-- id: integer (nullable = true)\n |-- name: string (nullable = true)\n |-- agreementStatus: string (nullable = true)\n |-- typeId: integer (nullable = true)\n |-- typeName: string (nullable = true)\n |-- companyId: integer (nullable = true)\n |-- contactId: integer (nullable = true)\n |-- billingCycleId: integer (nullable = true)\n |-- billAmount: double (nullable = true)\n |-- applicationUnits: string (nullable = true)\n |-- effective_start: date (nullable = true)\n |-- effective_end: timestamp (nullable = true)\n |-- cancelledFlag: boolean (nullable = true)\n |-- customFields: string (nullable = true)\n |-- is_active_period: boolean (nullable = true)\n |-- is_new_agreement: boolean (nullable = true)\n |-- is_churned_agreement: boolean (nullable = true)\n |-- monthly_revenue: double (nullable = true)\n |-- days_in_period: integer (nullable = true)\n |-- prorated_revenue: double (nullable = true)\n |-- months_since_start: double (nullable = true)\n |-- revenue_change: double (nullable = true)\n |-- cumulative_revenue: double (nullable = true)\n |-- AgreementPeriodSK: string (nullable = true)\n\n\nAgreement Summary Facts (Lifetime grain):\nroot\n |-- id: integer (nullable = true)\n |-- name: string (nullable = true)\n |-- agreementStatus: string (nullable = true)\n |-- typeId: integer (nullable = true)\n |-- typeName: string (nullable = true)\n |-- companyId: integer (nullable = true)\n |-- companyName: string (nullable = true)\n |-- contactId: integer (nullable = true)\n |-- billAmount: double (nullable = true)\n |-- start_date: timestamp (nullable = true)\n |-- endDate: timestamp (nullable = true)\n |-- cancelledFlag: boolean (nullable = true)\n |-- customFields: string (nullable = true)\n |-- lifetime_days: integer (nullable = true)\n |-- lifetime_months: double (nullable = true)\n |-- estimated_lifetime_value: double (nullable = true)\n |-- actual_total_revenue: double (nullable = true)\n |-- actual_avg_monthly_revenue: double (nullable = true)\n |-- active_periods: long (nullable = true)\n |-- new_periods: long (nullable = true)\n |-- cumulative_lifetime_revenue: double (nullable = true)\n |-- AgreementSummarySK: string (nullable = true)\n\n\n💰 INVOICE FACTS\n------------------------------\nInvoice Line Facts (Most detailed grain - from time entries + products):\nroot\n |-- InvoiceLineSK: string (nullable = true)\n |-- InvoiceSK: string (nullable = true)\n |-- agreementId: integer (nullable = true)\n |-- AgreementSK: string (nullable = true)\n |-- invoiceId: integer (nullable = true)\n |-- lineNumber: long (nullable = true)\n |-- description: string (nullable = true)\n |-- quantity: double (nullable = true)\n |-- price: double (nullable = true)\n |-- cost: double (nullable = true)\n |-- productClass: string (nullable = true)\n |-- timeEntryId: integer (nullable = true)\n |-- productId: integer (nullable = true)\n |-- itemIdentifier: string (nullable = true)\n |-- lineAmount: double (nullable = true)\n |-- lineCost: double (nullable = true)\n |-- lineMargin: double (nullable = true)\n |-- marginPercentage: double (nullable = true)\n |-- invoiceNumber: string (nullable = true)\n |-- statusName: string (nullable = true)\n |-- type: string (nullable = true)\n |-- date: timestamp (nullable = true)\n |-- dueDate: timestamp (nullable = true)\n |-- companyId: integer (nullable = true)\n |-- billToCompanyId: integer (nullable = true)\n |-- shipToCompanyId: integer (nullable = true)\n |-- InvoiceDateSK: integer (nullable = true)\n |-- DueDateSK: integer (nullable = true)\n |-- isService: boolean (nullable = true)\n |-- isProduct: boolean (nullable = true)\n |-- isAgreement: boolean (nullable = true)\n |-- agreement_type: string (nullable = true)\n |-- final_agreement_number: string (nullable = true)\n\n\nInvoice Header Facts (Document grain):\nroot\n |-- InvoiceSK: string (nullable = true)\n |-- AgreementSK: string (nullable = true)\n |-- id: integer (nullable = true)\n |-- invoiceNumber: string (nullable = true)\n |-- statusName: string (nullable = true)\n |-- type: string (nullable = true)\n |-- date: timestamp (nullable = true)\n |-- dueDate: timestamp (nullable = true)\n |-- total: double (nullable = true)\n |-- subtotal: double (nullable = true)\n |-- salesTax: double (nullable = true)\n |-- agreementId: integer (nullable = true)\n |-- companyId: integer (nullable = true)\n |-- companyName: string (nullable = true)\n |-- billToCompanyId: integer (nullable = true)\n |-- billToCompanyName: string (nullable = true)\n |-- paymentTermsDays: integer (nullable = true)\n |-- isOverdue: boolean (nullable = true)\n |-- InvoiceDateSK: integer (nullable = true)\n |-- DueDateSK: integer (nullable = true)\n |-- lineItemCount: long (nullable = true)\n |-- calculatedTotal: double (nullable = true)\n |-- totalCost: double (nullable = true)\n |-- totalMargin: double (nullable = true)\n |-- avgMarginPercentage: double (nullable = true)\n |-- serviceLineCount: long (nullable = true)\n |-- productLineCount: long (nullable = true)\n\n\nInvoice Period Facts (Revenue recognition grain):\nroot\n |-- id: integer (nullable = true)\n |-- invoiceNumber: string (nullable = true)\n |-- date: timestamp (nullable = true)\n |-- total: double (nullable = true)\n |-- agreementId: integer (nullable = true)\n |-- companyId: integer (nullable = true)\n |-- statusName: string (nullable = true)\n |-- type: string (nullable = true)\n |-- period_start: string (nullable = true)\n |-- period_end: date (nullable = true)\n |-- year: integer (nullable = true)\n |-- month: integer (nullable = true)\n |-- quarter: integer (nullable = true)\n |-- InvoicePeriodSK: string (nullable = true)\n |-- InvoiceSK: string (nullable = true)\n |-- PeriodDateSK: integer (nullable = true)\n |-- recognizedRevenue: double (nullable = true)\n |-- billedRevenue: double (nullable = true)\n |-- cumulativeRevenue: double (nullable = true)\n\n\n📋 OTHER ENTITY FACTS\n------------------------------\nExpense Entry Facts:\nroot\n |-- id: integer (nullable = true)\n |-- expenseReportId: integer (nullable = true)\n |-- expenseReportName: string (nullable = true)\n |-- expenseReport_info: string (nullable = true)\n |-- companyId: integer (nullable = true)\n |-- companyIdentifier: string (nullable = true)\n |-- companyName: string (nullable = true)\n |-- company_info: string (nullable = true)\n |-- chargeToId: integer (nullable = true)\n |-- chargeToType: string (nullable = true)\n |-- typeId: integer (nullable = true)\n |-- typeName: string (nullable = true)\n |-- type_info: string (nullable = true)\n |-- memberId: integer (nullable = true)\n |-- memberIdentifier: string (nullable = true)\n |-- memberName: string (nullable = true)\n |-- memberDailyCapacity: double (nullable = true)\n |-- member_info: string (nullable = true)\n |-- paymentMethodId: integer (nullable = true)\n |-- paymentMethodName: string (nullable = true)\n |-- paymentMethod_info: string (nullable = true)\n |-- classificationId: integer (nullable = true)\n |-- classificationName: string (nullable = true)\n |-- classification_info: string (nullable = true)\n |-- amount: double (nullable = true)\n |-- billableOption: string (nullable = true)\n |-- date: timestamp (nullable = true)\n |-- locationId: integer (nullable = true)\n |-- businessUnitId: integer (nullable = true)\n |-- notes: string (nullable = true)\n |-- agreementId: integer (nullable = true)\n |-- agreementName: string (nullable = true)\n |-- agreementType: string (nullable = true)\n |-- agreementChargeFirmFlag: boolean (nullable = true)\n |-- agreement_info: string (nullable = true)\n |-- invoiceAmount: double (nullable = true)\n |-- mobileGuid: string (nullable = true)\n |-- taxes: string (nullable = true)\n |-- invoiceId: integer (nullable = true)\n |-- invoiceIdentifier: string (nullable = true)\n |-- invoiceBillingType: string (nullable = true)\n |-- invoiceApplyToType: string (nullable = true)\n |-- invoiceInvoiceDate: string (nullable = true)\n |-- invoiceChargeFirmFlag: boolean (nullable = true)\n |-- invoice_info: string (nullable = true)\n |-- currencyId: integer (nullable = true)\n |-- currencySymbol: string (nullable = true)\n |-- currencyCurrencyCode: string (nullable = true)\n |-- currencyDecimalSeparator: string (nullable = true)\n |-- currencyNumberOfDecimals: integer (nullable = true)\n |-- currencyThousandsSeparator: string (nullable = true)\n |-- currencyNegativeParenthesesFlag: boolean (nullable = true)\n |-- currencyDisplaySymbolFlag: boolean (nullable = true)\n |-- currencyCurrencyIdentifier: string (nullable = true)\n |-- currencyDisplayIdFlag: boolean (nullable = true)\n |-- currencyRightAlign: boolean (nullable = true)\n |-- currencyName: string (nullable = true)\n |-- currency_info: string (nullable = true)\n |-- status: string (nullable = true)\n |-- billAmount: double (nullable = true)\n |-- agreementAmount: double (nullable = true)\n |-- odometerStart: double (nullable = true)\n |-- odometerEnd: double (nullable = true)\n |-- ticketId: integer (nullable = true)\n |-- ticketSummary: string (nullable = true)\n |-- ticket_info: string (nullable = true)\n |-- projectId: integer (nullable = true)\n |-- projectName: string (nullable = true)\n |-- project_info: string (nullable = true)\n |-- phaseId: integer (nullable = true)\n |-- phaseName: string (nullable = true)\n |-- phase_info: string (nullable = true)\n |-- _info: string (nullable = true)\n |-- customFields: string (nullable = true)\n |-- etlTimestamp: string (nullable = true)\n |-- etlEntity: string (nullable = true)\n |-- _etl_processed_at: timestamp (nullable = true)\n |-- _etl_source: string (nullable = true)\n |-- _etl_batch_id: string (nullable = true)\n |-- ExpenseentrySK: integer (nullable = true)\n |-- ExpenseentryBusinessKey: integer (nullable = true)\n |-- _etl_gold_processed_at: timestamp (nullable = true)\n |-- EntityType: string (nullable = true)\n\n\nProduct Item Facts:\nroot\n |-- id: integer (nullable = true)\n |-- catalogItemId: integer (nullable = true)\n |-- catalogItemIdentifier: string (nullable = true)\n |-- catalogItemName: string (nullable = true)\n |-- catalogItem_info: string (nullable = true)\n |-- description: string (nullable = true)\n |-- sequenceNumber: double (nullable = true)\n |-- quantity: double (nullable = true)\n |-- unitOfMeasureId: integer (nullable = true)\n |-- unitOfMeasureName: string (nullable = true)\n |-- unitOfMeasure_info: string (nullable = true)\n |-- price: double (nullable = true)\n |-- cost: double (nullable = true)\n |-- extPrice: double (nullable = true)\n |-- extCost: double (nullable = true)\n |-- discount: double (nullable = true)\n |-- margin: double (nullable = true)\n |-- agreementAmount: double (nullable = true)\n |-- priceMethod: string (nullable = true)\n |-- billableOption: string (nullable = true)\n |-- agreementId: integer (nullable = true)\n |-- agreementName: string (nullable = true)\n |-- agreementType: string (nullable = true)\n |-- agreementChargeFirmFlag: boolean (nullable = true)\n |-- agreement_info: string (nullable = true)\n |-- locationId: integer (nullable = true)\n |-- locationId_1: integer (nullable = true)\n |-- locationName: string (nullable = true)\n |-- location_info: string (nullable = true)\n |-- businessUnitId: integer (nullable = true)\n |-- businessUnitId_1: integer (nullable = true)\n |-- businessUnitName: string (nullable = true)\n |-- businessUnit_info: string (nullable = true)\n |-- vendorId: integer (nullable = true)\n |-- vendorIdentifier: string (nullable = true)\n |-- vendorName: string (nullable = true)\n |-- vendor_info: string (nullable = true)\n |-- vendorSku: string (nullable = true)\n |-- taxableFlag: boolean (nullable = true)\n |-- dropshipFlag: boolean (nullable = true)\n |-- specialOrderFlag: boolean (nullable = true)\n |-- phaseProductFlag: boolean (nullable = true)\n |-- cancelledFlag: boolean (nullable = true)\n |-- quantityCancelled: double (nullable = true)\n |-- cancelledReason: string (nullable = true)\n |-- customerDescription: string (nullable = true)\n |-- internalNotes: string (nullable = true)\n |-- productSuppliedFlag: boolean (nullable = true)\n |-- subContractorShipToId: integer (nullable = true)\n |-- subContractorAmountLimit: double (nullable = true)\n |-- recurringRecurringRevenue: double (nullable = true)\n |-- recurringRecurringCost: double (nullable = true)\n |-- recurringStartDate: string (nullable = true)\n |-- recurringEndDate: string (nullable = true)\n |-- recurringBillCycleId: integer (nullable = true)\n |-- recurringBillCycleId_1: integer (nullable = true)\n |-- recurringBillCycleName: string (nullable = true)\n |-- recurringBillCycle_info: string (nullable = true)\n |-- recurringCycles: integer (nullable = true)\n |-- recurringCycleType: string (nullable = true)\n |-- recurringAgreementTypeId: integer (nullable = true)\n |-- recurringAgreementTypeName: string (nullable = true)\n |-- recurringAgreementType_info: string (nullable = true)\n |-- slaId: integer (nullable = true)\n |-- slaName: string (nullable = true)\n |-- sla_info: string (nullable = true)\n |-- entityTypeId: integer (nullable = true)\n |-- entityTypeName: string (nullable = true)\n |-- entityType_info: string (nullable = true)\n |-- ticketId: integer (nullable = true)\n |-- ticketSummary: string (nullable = true)\n |-- ticket_info: string (nullable = true)\n |-- projectId: integer (nullable = true)\n |-- projectName: string (nullable = true)\n |-- project_info: string (nullable = true)\n |-- phaseId: integer (nullable = true)\n |-- phaseName: string (nullable = true)\n |-- phase_info: string (nullable = true)\n |-- salesOrderId: integer (nullable = true)\n |-- salesOrderIdentifier: string (nullable = true)\n |-- salesOrder_info: string (nullable = true)\n |-- opportunityId: integer (nullable = true)\n |-- opportunityName: string (nullable = true)\n |-- opportunity_info: string (nullable = true)\n |-- invoiceId: integer (nullable = true)\n |-- invoiceIdentifier: string (nullable = true)\n |-- invoiceBillingType: string (nullable = true)\n |-- invoiceApplyToType: string (nullable = true)\n |-- invoiceInvoiceDate: string (nullable = true)\n |-- invoiceChargeFirmFlag: boolean (nullable = true)\n |-- invoice_info: string (nullable = true)\n |-- warehouseId: integer (nullable = true)\n |-- warehouseIdObjectId: integer (nullable = true)\n |-- warehouseIdObjectName: string (nullable = true)\n |-- warehouseIdObjectLockedFlag: boolean (nullable = true)\n |-- warehouseIdObject_info: string (nullable = true)\n |-- warehouseBinId: integer (nullable = true)\n |-- warehouseBinIdObjectId: integer (nullable = true)\n |-- warehouseBinIdObjectName: string (nullable = true)\n |-- warehouseBinIdObject_info: string (nullable = true)\n |-- calculatedPriceFlag: boolean (nullable = true)\n |-- calculatedCostFlag: boolean (nullable = true)\n |-- forecastDetailId: integer (nullable = true)\n |-- cancelledBy: integer (nullable = true)\n |-- cancelledDate: timestamp (nullable = true)\n |-- warehouse: string (nullable = true)\n |-- warehouseBin: string (nullable = true)\n |-- purchaseDate: timestamp (nullable = true)\n |-- taxCodeId: integer (nullable = true)\n |-- taxCodeName: string (nullable = true)\n |-- taxCode_info: string (nullable = true)\n |-- integrationXRef: string (nullable = true)\n |-- listPrice: double (nullable = true)\n |-- serialNumberIds: string (nullable = true)\n |-- serialNumbers: string (nullable = true)\n |-- companyId: integer (nullable = true)\n |-- companyIdentifier: string (nullable = true)\n |-- companyName: string (nullable = true)\n |-- company_info: string (nullable = true)\n |-- forecastStatusId: integer (nullable = true)\n |-- forecastStatusName: string (nullable = true)\n |-- forecastStatus_info: string (nullable = true)\n |-- productClass: string (nullable = true)\n |-- needToPurchaseFlag: boolean (nullable = true)\n |-- needToOrderQuantity: integer (nullable = true)\n |-- minimumStockFlag: boolean (nullable = true)\n |-- shipSet: string (nullable = true)\n |-- calculatedPrice: double (nullable = true)\n |-- calculatedCost: double (nullable = true)\n |-- invoiceGroupingId: integer (nullable = true)\n |-- invoiceGroupingName: string (nullable = true)\n |-- invoiceGroupingDescription: string (nullable = true)\n |-- invoiceGroupingShowPriceFlag: boolean (nullable = true)\n |-- invoiceGroupingShowSubItemsFlag: boolean (nullable = true)\n |-- invoiceGroupingGroupParentChildAdditionsFlag: boolean (nullable = true)\n |-- invoiceGrouping_info: string (nullable = true)\n |-- poApprovedFlag: boolean (nullable = true)\n |-- uom: string (nullable = true)\n |-- addComponentsFlag: boolean (nullable = true)\n |-- ignorePricingSchedulesFlag: boolean (nullable = true)\n |-- asioSubscriptionsID: string (nullable = true)\n |-- _info: string (nullable = true)\n |-- bypassForecastUpdate: boolean (nullable = true)\n |-- customFields: string (nullable = true)\n |-- etlTimestamp: string (nullable = true)\n |-- etlEntity: string (nullable = true)\n |-- _etl_processed_at: timestamp (nullable = true)\n |-- _etl_source: string (nullable = true)\n |-- _etl_batch_id: string (nullable = true)\n |-- ProductitemSK: integer (nullable = true)\n |-- ProductitemBusinessKey: integer (nullable = true)\n |-- _etl_gold_processed_at: timestamp (nullable = true)\n |-- EntityType: string (nullable = true)\n\n\nTime Entry Facts:\nroot\n |-- id: integer (nullable = true)\n |-- companyId: integer (nullable = true)\n |-- companyIdentifier: string (nullable = true)\n |-- companyName: string (nullable = true)\n |-- company_info: string (nullable = true)\n |-- companyType: string (nullable = true)\n |-- chargeToId: integer (nullable = true)\n |-- chargeToType: string (nullable = true)\n |-- memberId: integer (nullable = true)\n |-- memberIdentifier: string (nullable = true)\n |-- memberName: string (nullable = true)\n |-- memberDailyCapacity: double (nullable = true)\n |-- member_info: string (nullable = true)\n |-- locationId: integer (nullable = true)\n |-- businessUnitId: integer (nullable = true)\n |-- businessGroupDesc: string (nullable = true)\n |-- locationId_1: integer (nullable = true)\n |-- locationName_1: string (nullable = true)\n |-- location_info: string (nullable = true)\n |-- departmentId: integer (nullable = true)\n |-- departmentName: string (nullable = true)\n |-- department_info: string (nullable = true)\n |-- workTypeId: integer (nullable = true)\n |-- workTypeName: string (nullable = true)\n |-- workTypeUtilizationFlag: boolean (nullable = true)\n |-- workType_info: string (nullable = true)\n |-- workRoleId: integer (nullable = true)\n |-- workRoleName: string (nullable = true)\n |-- workRole_info: string (nullable = true)\n |-- agreementId: integer (nullable = true)\n |-- agreementName: string (nullable = true)\n |-- agreementType_1: string (nullable = true)\n |-- agreementChargeFirmFlag: boolean (nullable = true)\n |-- agreement_info: string (nullable = true)\n |-- agreementType: string (nullable = true)\n |-- activityId: integer (nullable = true)\n |-- activityName: string (nullable = true)\n |-- activity_info: string (nullable = true)\n |-- opportunityRecid: integer (nullable = true)\n |-- projectActivity: string (nullable = true)\n |-- territory: string (nullable = true)\n |-- timeStart: timestamp (nullable = true)\n |-- timeEnd: timestamp (nullable = true)\n |-- hoursDeduct: double (nullable = true)\n |-- actualHours: double (nullable = true)\n |-- billableOption: string (nullable = true)\n |-- notes: string (nullable = true)\n |-- internalNotes: string (nullable = true)\n |-- addToDetailDescriptionFlag: boolean (nullable = true)\n |-- addToInternalAnalysisFlag: boolean (nullable = true)\n |-- addToResolutionFlag: boolean (nullable = true)\n |-- emailResourceFlag: boolean (nullable = true)\n |-- emailContactFlag: boolean (nullable = true)\n |-- emailCcFlag: boolean (nullable = true)\n |-- emailCc: string (nullable = true)\n |-- hoursBilled: double (nullable = true)\n |-- invoiceHours: double (nullable = true)\n |-- hourlyCost: string (nullable = true)\n |-- enteredBy: string (nullable = true)\n |-- dateEntered: timestamp (nullable = true)\n |-- invoiceId: integer (nullable = true)\n |-- invoiceIdentifier: string (nullable = true)\n |-- invoiceBillingType: string (nullable = true)\n |-- invoiceApplyToType: string (nullable = true)\n |-- invoiceInvoiceDate: string (nullable = true)\n |-- invoiceChargeFirmFlag: boolean (nullable = true)\n |-- invoice_info: string (nullable = true)\n |-- mobileGuid: string (nullable = true)\n |-- hourlyRate: double (nullable = true)\n |-- overageRate: double (nullable = true)\n |-- agreementHours: double (nullable = true)\n |-- agreementAmount: double (nullable = true)\n |-- agreementAdjustment: double (nullable = true)\n |-- adjustment: double (nullable = true)\n |-- invoiceReady: integer (nullable = true)\n |-- timeSheetId: integer (nullable = true)\n |-- timeSheetName: string (nullable = true)\n |-- timeSheet_info: string (nullable = true)\n |-- status: string (nullable = true)\n |-- ticketId: integer (nullable = true)\n |-- ticketSummary: string (nullable = true)\n |-- ticket_info: string (nullable = true)\n |-- projectId: integer (nullable = true)\n |-- projectName: string (nullable = true)\n |-- project_info: string (nullable = true)\n |-- phaseId: integer (nullable = true)\n |-- phaseName: string (nullable = true)\n |-- phase_info: string (nullable = true)\n |-- ticketBoard: string (nullable = true)\n |-- ticketStatus: string (nullable = true)\n |-- ticketType: string (nullable = true)\n |-- ticketSubType: string (nullable = true)\n |-- invoiceFlag: boolean (nullable = true)\n |-- extendedInvoiceAmount: double (nullable = true)\n |-- locationName: string (nullable = true)\n |-- taxCodeId: integer (nullable = true)\n |-- taxCodeName: string (nullable = true)\n |-- taxCode_info: string (nullable = true)\n |-- _info: string (nullable = true)\n |-- customFields: string (nullable = true)\n |-- etlTimestamp: string (nullable = true)\n |-- etlEntity: string (nullable = true)\n |-- _etl_processed_at: timestamp (nullable = true)\n |-- _etl_source: string (nullable = true)\n |-- _etl_batch_id: string (nullable = true)\n |-- TimeentrySK: integer (nullable = true)\n |-- TimeentryBusinessKey: integer (nullable = true)\n |-- _etl_gold_processed_at: timestamp (nullable = true)\n |-- EntityType: string (nullable = true)\n\n\nGeneric Invoice Facts (fallback):\nroot\n |-- id: integer (nullable = true)\n |-- invoiceNumber: string (nullable = true)\n |-- type: string (nullable = true)\n |-- statusId: integer (nullable = true)\n |-- statusName: string (nullable = true)\n |-- statusIsClosed: boolean (nullable = true)\n |-- status_info: string (nullable = true)\n |-- companyId: integer (nullable = true)\n |-- companyIdentifier: string (nullable = true)\n |-- companyName: string (nullable = true)\n |-- company_info: string (nullable = true)\n |-- billToCompanyId: integer (nullable = true)\n |-- billToCompanyIdentifier: string (nullable = true)\n |-- billToCompanyName: string (nullable = true)\n |-- billToCompany_info: string (nullable = true)\n |-- shipToCompanyId: integer (nullable = true)\n |-- shipToCompanyIdentifier: string (nullable = true)\n |-- shipToCompanyName: string (nullable = true)\n |-- shipToCompany_info: string (nullable = true)\n |-- accountNumber: string (nullable = true)\n |-- applyToType: string (nullable = true)\n |-- applyToId: integer (nullable = true)\n |-- attention: string (nullable = true)\n |-- shipToAttention: string (nullable = true)\n |-- billingSiteId: integer (nullable = true)\n |-- billingSiteName: string (nullable = true)\n |-- billingSite_info: string (nullable = true)\n |-- billingSiteAddressLine1: string (nullable = true)\n |-- billingSiteAddressLine2: string (nullable = true)\n |-- billingSiteCity: string (nullable = true)\n |-- billingSiteState: string (nullable = true)\n |-- billingSiteZip: string (nullable = true)\n |-- billingSiteCountry: string (nullable = true)\n |-- shippingSiteId: integer (nullable = true)\n |-- shippingSiteName: string (nullable = true)\n |-- shippingSite_info: string (nullable = true)\n |-- shippingSiteAddressLine1: string (nullable = true)\n |-- shippingSiteAddressLine2: string (nullable = true)\n |-- shippingSiteCity: string (nullable = true)\n |-- shippingSiteState: string (nullable = true)\n |-- shippingSiteZip: string (nullable = true)\n |-- shippingSiteCountry: string (nullable = true)\n |-- billingTermsId: integer (nullable = true)\n |-- billingTermsName: string (nullable = true)\n |-- billingTerms_info: string (nullable = true)\n |-- reference: string (nullable = true)\n |-- customerPO: string (nullable = true)\n |-- templateSetupId: integer (nullable = true)\n |-- invoiceTemplateId: integer (nullable = true)\n |-- invoiceTemplateName: string (nullable = true)\n |-- invoiceTemplate_info: string (nullable = true)\n |-- emailTemplateId: integer (nullable = true)\n |-- addToBatchEmailList: boolean (nullable = true)\n |-- date: timestamp (nullable = true)\n |-- restrictDownpaymentFlag: boolean (nullable = true)\n |-- locationId: integer (nullable = true)\n |-- locationId_1: integer (nullable = true)\n |-- locationName: string (nullable = true)\n |-- location_info: string (nullable = true)\n |-- departmentId: integer (nullable = true)\n |-- departmentId_1: integer (nullable = true)\n |-- departmentName: string (nullable = true)\n |-- department_info: string (nullable = true)\n |-- territoryId: integer (nullable = true)\n |-- territoryId_1: integer (nullable = true)\n |-- territoryName: string (nullable = true)\n |-- territory_info: string (nullable = true)\n |-- topComment: string (nullable = true)\n |-- bottomComment: string (nullable = true)\n |-- taxableFlag: boolean (nullable = true)\n |-- taxCodeId: integer (nullable = true)\n |-- taxCodeName: string (nullable = true)\n |-- taxCode_info: string (nullable = true)\n |-- internalNotes: string (nullable = true)\n |-- downpaymentPreviouslyTaxedFlag: boolean (nullable = true)\n |-- serviceTotal: double (nullable = true)\n |-- overrideDownPaymentAmountFlag: boolean (nullable = true)\n |-- currencyId: integer (nullable = true)\n |-- currencySymbol: string (nullable = true)\n |-- currencyCurrencyCode: string (nullable = true)\n |-- currencyDecimalSeparator: string (nullable = true)\n |-- currencyNumberOfDecimals: integer (nullable = true)\n |-- currencyThousandsSeparator: string (nullable = true)\n |-- currencyNegativeParenthesesFlag: boolean (nullable = true)\n |-- currencyDisplaySymbolFlag: boolean (nullable = true)\n |-- currencyCurrencyIdentifier: string (nullable = true)\n |-- currencyDisplayIdFlag: boolean (nullable = true)\n |-- currencyRightAlign: boolean (nullable = true)\n |-- currencyName: string (nullable = true)\n |-- currency_info: string (nullable = true)\n |-- dueDate: timestamp (nullable = true)\n |-- expenseTotal: double (nullable = true)\n |-- productTotal: double (nullable = true)\n |-- previousProgressApplied: double (nullable = true)\n |-- serviceAdjustmentAmount: double (nullable = true)\n |-- agreementAmount: double (nullable = true)\n |-- downpaymentApplied: double (nullable = true)\n |-- subtotal: double (nullable = true)\n |-- total: double (nullable = true)\n |-- remainingDownpayment: double (nullable = true)\n |-- salesTax: double (nullable = true)\n |-- adjustmentReason: string (nullable = true)\n |-- adjustedBy: string (nullable = true)\n |-- closedBy: string (nullable = true)\n |-- payments: double (nullable = true)\n |-- credits: double (nullable = true)\n |-- balance: double (nullable = true)\n |-- specialInvoiceFlag: boolean (nullable = true)\n |-- billingSetupReferenceId: integer (nullable = true)\n |-- billingSetupReferenceName: string (nullable = true)\n |-- billingSetupReference_info: string (nullable = true)\n |-- ticketId: integer (nullable = true)\n |-- ticketSummary: string (nullable = true)\n |-- ticket_info: string (nullable = true)\n |-- projectId: integer (nullable = true)\n |-- projectName: string (nullable = true)\n |-- project_info: string (nullable = true)\n |-- phaseId: integer (nullable = true)\n |-- phaseName: string (nullable = true)\n |-- phase_info: string (nullable = true)\n |-- salesOrderId: integer (nullable = true)\n |-- salesOrderIdentifier: string (nullable = true)\n |-- salesOrder_info: string (nullable = true)\n |-- agreementId: integer (nullable = true)\n |-- agreementName: string (nullable = true)\n |-- agreementType: string (nullable = true)\n |-- agreementChargeFirmFlag: boolean (nullable = true)\n |-- agreement_info: string (nullable = true)\n |-- glBatchId: integer (nullable = true)\n |-- glBatchName: string (nullable = true)\n |-- glBatch_info: string (nullable = true)\n |-- unbatchedBatchId: integer (nullable = true)\n |-- unbatchedBatchName: string (nullable = true)\n |-- unbatchedBatch_info: string (nullable = true)\n |-- _info: string (nullable = true)\n |-- customFields: string (nullable = true)\n |-- etlTimestamp: string (nullable = true)\n |-- etlEntity: string (nullable = true)\n |-- _etl_processed_at: timestamp (nullable = true)\n |-- _etl_source: string (nullable = true)\n |-- _etl_batch_id: string (nullable = true)\n |-- InvoiceSK: integer (nullable = true)\n |-- InvoiceBusinessKey: integer (nullable = true)\n |-- _etl_gold_processed_at: timestamp (nullable = true)\n |-- EntityType: string (nullable = true)\n\n\n🎯 GOLD LAYER SUMMARY\n==================================================\nTotal Gold Tables: 9\nTotal Rows: 1,580,018\n\nSpecialized ConnectWise Transforms:\n✅ Agreement period facts (72,925 rows) - Monthly MRR tracking\n✅ Agreement summary facts (1,933 rows) - Lifetime metrics\n✅ Invoice line facts (463,379 rows) - Created from time entries + products\n✅ Invoice header facts (37,294 rows) - Document-level aggregations\n✅ Invoice period facts (37,294 rows) - Revenue recognition\n\nGeneric Transforms:\n📝 Expense entry facts (14,188 rows)\n📦 Product item facts (379,748 rows)\n⏰ Time entry facts (535,963 rows)\n📄 Invoice facts (37,294 rows) - Generic fallback\n"
     ]
    }
   ],
   "source": [
    "# Print schemas for all the gold fact tables\n",
    "print(\"🥇 GOLD LAYER SCHEMAS\")\n",
    "print(\"=\" * 50)\n",
    "\n",
    "print(\"\\n📊 AGREEMENT FACTS\")\n",
    "print(\"-\" * 30)\n",
    "print(\"Agreement Period Facts (Monthly grain):\")\n",
    "spark.table(\"gold.gold_cw_fact_agreement_period\").printSchema()\n",
    "\n",
    "print(\"\\nAgreement Summary Facts (Lifetime grain):\")\n",
    "spark.table(\"gold.gold_cw_fact_agreement_summary\").printSchema()\n",
    "\n",
    "print(\"\\n💰 INVOICE FACTS\")\n",
    "print(\"-\" * 30)\n",
    "print(\"Invoice Line Facts (Most detailed grain - from time entries + products):\")\n",
    "spark.table(\"gold.gold_cw_fact_invoice_line\").printSchema()\n",
    "\n",
    "print(\"\\nInvoice Header Facts (Document grain):\")\n",
    "spark.table(\"gold.gold_cw_fact_invoice_header\").printSchema()\n",
    "\n",
    "print(\"\\nInvoice Period Facts (Revenue recognition grain):\")\n",
    "spark.table(\"gold.gold_cw_fact_invoice_period\").printSchema()\n",
    "\n",
    "print(\"\\n📋 OTHER ENTITY FACTS\")\n",
    "print(\"-\" * 30)\n",
    "print(\"Expense Entry Facts:\")\n",
    "spark.table(\"gold.gold_cw_fact_expenseentry\").printSchema()\n",
    "\n",
    "print(\"\\nProduct Item Facts:\")\n",
    "spark.table(\"gold.gold_cw_fact_productitem\").printSchema()\n",
    "\n",
    "print(\"\\nTime Entry Facts:\")\n",
    "spark.table(\"gold.gold_cw_fact_timeentry\").printSchema()\n",
    "\n",
    "print(\"\\nGeneric Invoice Facts (fallback):\")\n",
    "spark.table(\"gold.gold_cw_fact_invoice\").printSchema()\n",
    "\n",
    "print(\"\\n🎯 GOLD LAYER SUMMARY\")\n",
    "print(\"=\" * 50)\n",
    "print(\"Total Gold Tables: 9\")\n",
    "print(\"Total Rows: 1,580,018\")\n",
    "print(\"\\nSpecialized ConnectWise Transforms:\")\n",
    "print(\"✅ Agreement period facts (72,925 rows) - Monthly MRR tracking\")\n",
    "print(\"✅ Agreement summary facts (1,933 rows) - Lifetime metrics\")\n",
    "print(\"✅ Invoice line facts (463,379 rows) - Created from time entries + products\")\n",
    "print(\"✅ Invoice header facts (37,294 rows) - Document-level aggregations\")\n",
    "print(\"✅ Invoice period facts (37,294 rows) - Revenue recognition\")\n",
    "print(\"\\nGeneric Transforms:\")\n",
    "print(\"📝 Expense entry facts (14,188 rows)\")\n",
    "print(\"📦 Product item facts (379,748 rows)\")\n",
    "print(\"⏰ Time entry facts (535,963 rows)\")\n",
    "print(\"📄 Invoice facts (37,294 rows) - Generic fallback\")"
   ]
  },
  {
   "cell_type": "code",
   "execution_count": 10,
   "id": "c12a3d0d-fa24-4d26-88f2-d22c2e3ae9e9",
   "metadata": {
    "microsoft": {
     "language": "python",
     "language_group": "synapse_pyspark"
    }
   },
   "outputs": [
    {
     "data": {
      "application/vnd.livy.statement-meta+json": {
       "execution_finish_time": "2025-05-28T10:57:39.3890812Z",
       "execution_start_time": "2025-05-28T10:57:39.1323059Z",
       "livy_statement_state": "available",
       "normalized_state": "finished",
       "parent_msg_id": "f0b66045-2280-4274-8491-e85ec8544c32",
       "queued_time": "2025-05-28T10:57:39.1309447Z",
       "session_id": "101a9a68-9f17-4a04-9c35-5f19f96d4c60",
       "session_start_time": null,
       "spark_pool": null,
       "state": "finished",
       "statement_id": 19,
       "statement_ids": [
        19
       ]
      },
      "text/plain": "StatementMeta(, 101a9a68-9f17-4a04-9c35-5f19f96d4c60, 19, Finished, Available, Finished)"
     },
     "metadata": {},
     "output_type": "display_data"
    },
    {
     "name": "stdout",
     "output_type": "stream",
     "text": [
      "🎯 Creating BI Materialized Views from Gold Facts\n==================================================\n"
     ]
    },
    {
     "ename": "ParseException",
     "evalue": "\n[PARSE_SYNTAX_ERROR] Syntax error at or near 'MATERIALIZED'.(line 2, pos 18)\n\n== SQL ==\n\nCREATE OR REPLACE MATERIALIZED VIEW gold.mv_monthly_revenue_dashboard AS\n------------------^^^\nSELECT\n    DATE_FORMAT(period_start, 'yyyy-MM') as revenue_month,\n    year,\n    month,\n    quarter,\n    COUNT(DISTINCT id) as active_agreements,\n    SUM(monthly_revenue) as total_mrr,\n    SUM(CASE WHEN is_new_agreement THEN monthly_revenue ELSE 0 END) as new_mrr,\n    SUM(CASE WHEN is_churned_agreement THEN monthly_revenue ELSE 0 END) as churned_mrr,\n    COUNT(CASE WHEN is_new_agreement THEN 1 END) as new_agreement_count,\n    COUNT(CASE WHEN is_churned_agreement THEN 1 END) as churned_agreement_count,\n    AVG(monthly_revenue) as avg_agreement_value\nFROM gold.gold_cw_fact_agreement_period\nWHERE is_active_period = true\nGROUP BY DATE_FORMAT(period_start, 'yyyy-MM'), year, month, quarter\n",
     "output_type": "error",
     "traceback": [
      "\u001b[0;31m---------------------------------------------------------------------------\u001b[0m",
      "\u001b[0;31mParseException\u001b[0m                            Traceback (most recent call last)",
      "Cell \u001b[0;32mIn[34], line 5\u001b[0m\n\u001b[1;32m      2\u001b[0m \u001b[38;5;28mprint\u001b[39m(\u001b[38;5;124m\"\u001b[39m\u001b[38;5;124m=\u001b[39m\u001b[38;5;124m\"\u001b[39m \u001b[38;5;241m*\u001b[39m \u001b[38;5;241m50\u001b[39m)\n\u001b[1;32m      4\u001b[0m \u001b[38;5;66;03m# 1. Monthly Revenue Dashboard - Materialized View\u001b[39;00m\n\u001b[0;32m----> 5\u001b[0m spark\u001b[38;5;241m.\u001b[39msql(\u001b[38;5;124m\"\"\"\u001b[39m\n\u001b[1;32m      6\u001b[0m \u001b[38;5;124mCREATE OR REPLACE MATERIALIZED VIEW gold.mv_monthly_revenue_dashboard AS\u001b[39m\n\u001b[1;32m      7\u001b[0m \u001b[38;5;124mSELECT\u001b[39m\n\u001b[1;32m      8\u001b[0m \u001b[38;5;124m    DATE_FORMAT(period_start, \u001b[39m\u001b[38;5;124m'\u001b[39m\u001b[38;5;124myyyy-MM\u001b[39m\u001b[38;5;124m'\u001b[39m\u001b[38;5;124m) as revenue_month,\u001b[39m\n\u001b[1;32m      9\u001b[0m \u001b[38;5;124m    year,\u001b[39m\n\u001b[1;32m     10\u001b[0m \u001b[38;5;124m    month,\u001b[39m\n\u001b[1;32m     11\u001b[0m \u001b[38;5;124m    quarter,\u001b[39m\n\u001b[1;32m     12\u001b[0m \u001b[38;5;124m    COUNT(DISTINCT id) as active_agreements,\u001b[39m\n\u001b[1;32m     13\u001b[0m \u001b[38;5;124m    SUM(monthly_revenue) as total_mrr,\u001b[39m\n\u001b[1;32m     14\u001b[0m \u001b[38;5;124m    SUM(CASE WHEN is_new_agreement THEN monthly_revenue ELSE 0 END) as new_mrr,\u001b[39m\n\u001b[1;32m     15\u001b[0m \u001b[38;5;124m    SUM(CASE WHEN is_churned_agreement THEN monthly_revenue ELSE 0 END) as churned_mrr,\u001b[39m\n\u001b[1;32m     16\u001b[0m \u001b[38;5;124m    COUNT(CASE WHEN is_new_agreement THEN 1 END) as new_agreement_count,\u001b[39m\n\u001b[1;32m     17\u001b[0m \u001b[38;5;124m    COUNT(CASE WHEN is_churned_agreement THEN 1 END) as churned_agreement_count,\u001b[39m\n\u001b[1;32m     18\u001b[0m \u001b[38;5;124m    AVG(monthly_revenue) as avg_agreement_value\u001b[39m\n\u001b[1;32m     19\u001b[0m \u001b[38;5;124mFROM gold.gold_cw_fact_agreement_period\u001b[39m\n\u001b[1;32m     20\u001b[0m \u001b[38;5;124mWHERE is_active_period = true\u001b[39m\n\u001b[1;32m     21\u001b[0m \u001b[38;5;124mGROUP BY DATE_FORMAT(period_start, \u001b[39m\u001b[38;5;124m'\u001b[39m\u001b[38;5;124myyyy-MM\u001b[39m\u001b[38;5;124m'\u001b[39m\u001b[38;5;124m), year, month, quarter\u001b[39m\n\u001b[1;32m     22\u001b[0m \u001b[38;5;124m\"\"\"\u001b[39m)\n\u001b[1;32m     24\u001b[0m \u001b[38;5;66;03m# 2. Customer Revenue Analysis - Materialized View\u001b[39;00m\n\u001b[1;32m     25\u001b[0m spark\u001b[38;5;241m.\u001b[39msql(\u001b[38;5;124m\"\"\"\u001b[39m\n\u001b[1;32m     26\u001b[0m \u001b[38;5;124mCREATE OR REPLACE MATERIALIZED VIEW gold.mv_customer_revenue_analysis AS\u001b[39m\n\u001b[1;32m     27\u001b[0m \u001b[38;5;124mSELECT\u001b[39m\n\u001b[0;32m   (...)\u001b[0m\n\u001b[1;32m     48\u001b[0m \u001b[38;5;124mHAVING total_invoiced > 0\u001b[39m\n\u001b[1;32m     49\u001b[0m \u001b[38;5;124m\"\"\"\u001b[39m)\n",
      "File \u001b[0;32m/opt/spark/python/lib/pyspark.zip/pyspark/sql/session.py:1631\u001b[0m, in \u001b[0;36mSparkSession.sql\u001b[0;34m(self, sqlQuery, args, **kwargs)\u001b[0m\n\u001b[1;32m   1627\u001b[0m         \u001b[38;5;28;01massert\u001b[39;00m \u001b[38;5;28mself\u001b[39m\u001b[38;5;241m.\u001b[39m_jvm \u001b[38;5;129;01mis\u001b[39;00m \u001b[38;5;129;01mnot\u001b[39;00m \u001b[38;5;28;01mNone\u001b[39;00m\n\u001b[1;32m   1628\u001b[0m         litArgs \u001b[38;5;241m=\u001b[39m \u001b[38;5;28mself\u001b[39m\u001b[38;5;241m.\u001b[39m_jvm\u001b[38;5;241m.\u001b[39mPythonUtils\u001b[38;5;241m.\u001b[39mtoArray(\n\u001b[1;32m   1629\u001b[0m             [_to_java_column(lit(v)) \u001b[38;5;28;01mfor\u001b[39;00m v \u001b[38;5;129;01min\u001b[39;00m (args \u001b[38;5;129;01mor\u001b[39;00m [])]\n\u001b[1;32m   1630\u001b[0m         )\n\u001b[0;32m-> 1631\u001b[0m     \u001b[38;5;28;01mreturn\u001b[39;00m DataFrame(\u001b[38;5;28mself\u001b[39m\u001b[38;5;241m.\u001b[39m_jsparkSession\u001b[38;5;241m.\u001b[39msql(sqlQuery, litArgs), \u001b[38;5;28mself\u001b[39m)\n\u001b[1;32m   1632\u001b[0m \u001b[38;5;28;01mfinally\u001b[39;00m:\n\u001b[1;32m   1633\u001b[0m     \u001b[38;5;28;01mif\u001b[39;00m \u001b[38;5;28mlen\u001b[39m(kwargs) \u001b[38;5;241m>\u001b[39m \u001b[38;5;241m0\u001b[39m:\n",
      "File \u001b[0;32m~/cluster-env/trident_env/lib/python3.11/site-packages/py4j/java_gateway.py:1322\u001b[0m, in \u001b[0;36mJavaMember.__call__\u001b[0;34m(self, *args)\u001b[0m\n\u001b[1;32m   1316\u001b[0m command \u001b[38;5;241m=\u001b[39m proto\u001b[38;5;241m.\u001b[39mCALL_COMMAND_NAME \u001b[38;5;241m+\u001b[39m\\\n\u001b[1;32m   1317\u001b[0m     \u001b[38;5;28mself\u001b[39m\u001b[38;5;241m.\u001b[39mcommand_header \u001b[38;5;241m+\u001b[39m\\\n\u001b[1;32m   1318\u001b[0m     args_command \u001b[38;5;241m+\u001b[39m\\\n\u001b[1;32m   1319\u001b[0m     proto\u001b[38;5;241m.\u001b[39mEND_COMMAND_PART\n\u001b[1;32m   1321\u001b[0m answer \u001b[38;5;241m=\u001b[39m \u001b[38;5;28mself\u001b[39m\u001b[38;5;241m.\u001b[39mgateway_client\u001b[38;5;241m.\u001b[39msend_command(command)\n\u001b[0;32m-> 1322\u001b[0m return_value \u001b[38;5;241m=\u001b[39m get_return_value(\n\u001b[1;32m   1323\u001b[0m     answer, \u001b[38;5;28mself\u001b[39m\u001b[38;5;241m.\u001b[39mgateway_client, \u001b[38;5;28mself\u001b[39m\u001b[38;5;241m.\u001b[39mtarget_id, \u001b[38;5;28mself\u001b[39m\u001b[38;5;241m.\u001b[39mname)\n\u001b[1;32m   1325\u001b[0m \u001b[38;5;28;01mfor\u001b[39;00m temp_arg \u001b[38;5;129;01min\u001b[39;00m temp_args:\n\u001b[1;32m   1326\u001b[0m     \u001b[38;5;28;01mif\u001b[39;00m \u001b[38;5;28mhasattr\u001b[39m(temp_arg, \u001b[38;5;124m\"\u001b[39m\u001b[38;5;124m_detach\u001b[39m\u001b[38;5;124m\"\u001b[39m):\n",
      "File \u001b[0;32m/opt/spark/python/lib/pyspark.zip/pyspark/errors/exceptions/captured.py:185\u001b[0m, in \u001b[0;36mcapture_sql_exception.<locals>.deco\u001b[0;34m(*a, **kw)\u001b[0m\n\u001b[1;32m    181\u001b[0m converted \u001b[38;5;241m=\u001b[39m convert_exception(e\u001b[38;5;241m.\u001b[39mjava_exception)\n\u001b[1;32m    182\u001b[0m \u001b[38;5;28;01mif\u001b[39;00m \u001b[38;5;129;01mnot\u001b[39;00m \u001b[38;5;28misinstance\u001b[39m(converted, UnknownException):\n\u001b[1;32m    183\u001b[0m     \u001b[38;5;66;03m# Hide where the exception came from that shows a non-Pythonic\u001b[39;00m\n\u001b[1;32m    184\u001b[0m     \u001b[38;5;66;03m# JVM exception message.\u001b[39;00m\n\u001b[0;32m--> 185\u001b[0m     \u001b[38;5;28;01mraise\u001b[39;00m converted \u001b[38;5;28;01mfrom\u001b[39;00m \u001b[38;5;28;01mNone\u001b[39;00m\n\u001b[1;32m    186\u001b[0m \u001b[38;5;28;01melse\u001b[39;00m:\n\u001b[1;32m    187\u001b[0m     \u001b[38;5;28;01mraise\u001b[39;00m\n",
      "\u001b[0;31mParseException\u001b[0m: \n[PARSE_SYNTAX_ERROR] Syntax error at or near 'MATERIALIZED'.(line 2, pos 18)\n\n== SQL ==\n\nCREATE OR REPLACE MATERIALIZED VIEW gold.mv_monthly_revenue_dashboard AS\n------------------^^^\nSELECT\n    DATE_FORMAT(period_start, 'yyyy-MM') as revenue_month,\n    year,\n    month,\n    quarter,\n    COUNT(DISTINCT id) as active_agreements,\n    SUM(monthly_revenue) as total_mrr,\n    SUM(CASE WHEN is_new_agreement THEN monthly_revenue ELSE 0 END) as new_mrr,\n    SUM(CASE WHEN is_churned_agreement THEN monthly_revenue ELSE 0 END) as churned_mrr,\n    COUNT(CASE WHEN is_new_agreement THEN 1 END) as new_agreement_count,\n    COUNT(CASE WHEN is_churned_agreement THEN 1 END) as churned_agreement_count,\n    AVG(monthly_revenue) as avg_agreement_value\nFROM gold.gold_cw_fact_agreement_period\nWHERE is_active_period = true\nGROUP BY DATE_FORMAT(period_start, 'yyyy-MM'), year, month, quarter\n"
     ]
    }
   ],
   "source": [
    "print(\"🎯 Creating BI Materialized Views from Gold Facts\")\n",
    "print(\"=\" * 50)\n",
    "\n",
    "# 1. Monthly Revenue Dashboard - Materialized View\n",
    "spark.sql(\"\"\"\n",
    "CREATE OR REPLACE MATERIALIZED VIEW gold.mv_monthly_revenue_dashboard AS\n",
    "SELECT\n",
    "    DATE_FORMAT(period_start, 'yyyy-MM') as revenue_month,\n",
    "    year,\n",
    "    month,\n",
    "    quarter,\n",
    "    COUNT(DISTINCT id) as active_agreements,\n",
    "    SUM(monthly_revenue) as total_mrr,\n",
    "    SUM(CASE WHEN is_new_agreement THEN monthly_revenue ELSE 0 END) as new_mrr,\n",
    "    SUM(CASE WHEN is_churned_agreement THEN monthly_revenue ELSE 0 END) as churned_mrr,\n",
    "    COUNT(CASE WHEN is_new_agreement THEN 1 END) as new_agreement_count,\n",
    "    COUNT(CASE WHEN is_churned_agreement THEN 1 END) as churned_agreement_count,\n",
    "    AVG(monthly_revenue) as avg_agreement_value\n",
    "FROM gold.gold_cw_fact_agreement_period\n",
    "WHERE is_active_period = true\n",
    "GROUP BY DATE_FORMAT(period_start, 'yyyy-MM'), year, month, quarter\n",
    "\"\"\")\n",
    "\n",
    "# 2. Customer Revenue Analysis - Materialized View\n",
    "spark.sql(\"\"\"\n",
    "CREATE OR REPLACE MATERIALIZED VIEW gold.mv_customer_revenue_analysis AS\n",
    "SELECT\n",
    "    h.companyId,\n",
    "    h.companyName,\n",
    "    h.billToCompanyName,\n",
    "    COUNT(DISTINCT h.id) as invoice_count,\n",
    "    SUM(h.total) as total_invoiced,\n",
    "    SUM(h.totalMargin) as total_margin,\n",
    "    AVG(h.avgMarginPercentage) as avg_margin_pct,\n",
    "    SUM(h.lineItemCount) as total_line_items,\n",
    "    COUNT(DISTINCT l.agreementId) as agreement_count,\n",
    "    -- Revenue by type\n",
    "    SUM(CASE WHEN l.isService THEN l.lineAmount ELSE 0 END) as service_revenue,\n",
    "    SUM(CASE WHEN l.isProduct THEN l.lineAmount ELSE 0 END) as product_revenue,\n",
    "    SUM(CASE WHEN l.isAgreement THEN l.lineAmount ELSE 0 END) as agreement_revenue,\n",
    "    -- Time-based metrics\n",
    "    MIN(h.date) as first_invoice_date,\n",
    "    MAX(h.date) as last_invoice_date,\n",
    "    DATEDIFF(MAX(h.date), MIN(h.date)) as customer_lifetime_days\n",
    "FROM gold.gold_cw_fact_invoice_header h\n",
    "LEFT JOIN gold.gold_cw_fact_invoice_line l ON h.InvoiceSK = l.InvoiceSK\n",
    "GROUP BY h.companyId, h.companyName, h.billToCompanyName\n",
    "HAVING total_invoiced > 0\n",
    "\"\"\")\n",
    "\n",
    "# 3. Resource Utilization - Materialized View\n",
    "spark.sql(\"\"\"\n",
    "CREATE OR REPLACE MATERIALIZED VIEW gold.mv_resource_utilization AS\n",
    "SELECT\n",
    "    t.memberId,\n",
    "    t.memberName,\n",
    "    t.workTypeName,\n",
    "    t.workRoleName,\n",
    "    t.companyName,\n",
    "    t.agreementName,\n",
    "    t.agreementType,\n",
    "    DATE_FORMAT(t.timeStart, 'yyyy-MM') as work_month,\n",
    "    -- Time metrics\n",
    "    SUM(t.actualHours) as total_hours,\n",
    "    SUM(t.hoursBilled) as billable_hours,\n",
    "    SUM(t.actualHours * t.hourlyRate) as total_value,\n",
    "    AVG(t.hourlyRate) as avg_hourly_rate,\n",
    "    -- Efficiency metrics\n",
    "    ROUND(SUM(t.hoursBilled) / SUM(t.actualHours) * 100, 2) as utilization_rate,\n",
    "    COUNT(DISTINCT t.id) as time_entry_count,\n",
    "    COUNT(DISTINCT t.companyId) as client_count,\n",
    "    COUNT(DISTINCT DATE(t.timeStart)) as work_days\n",
    "FROM gold.gold_cw_fact_timeentry t\n",
    "WHERE t.actualHours > 0\n",
    "GROUP BY t.memberId, t.memberName, t.workTypeName, t.workRoleName,\n",
    "        t.companyName, t.agreementName, t.agreementType,\n",
    "        DATE_FORMAT(t.timeStart, 'yyyy-MM')\n",
    "\"\"\")\n",
    "\n",
    "# 4. Agreement Performance - Materialized View\n",
    "spark.sql(\"\"\"\n",
    "CREATE OR REPLACE MATERIALIZED VIEW gold.mv_agreement_performance AS\n",
    "SELECT\n",
    "    s.id as agreement_id,\n",
    "    s.name as agreement_name,\n",
    "    s.typeName as agreement_type,\n",
    "    s.companyName,\n",
    "    s.agreementStatus,\n",
    "    s.billAmount as monthly_bill_amount,\n",
    "    s.lifetime_months,\n",
    "    s.estimated_lifetime_value,\n",
    "    s.actual_total_revenue,\n",
    "    s.actual_avg_monthly_revenue,\n",
    "    s.cumulative_lifetime_revenue,\n",
    "    -- Performance metrics\n",
    "    CASE\n",
    "        WHEN s.estimated_lifetime_value > 0\n",
    "        THEN ROUND(s.actual_total_revenue / s.estimated_lifetime_value * 100, 2)\n",
    "        ELSE 0\n",
    "    END as revenue_realization_pct,\n",
    "    ROUND(s.actual_avg_monthly_revenue / s.billAmount * 100, 2) as billing_efficiency_pct,\n",
    "    s.active_periods,\n",
    "    s.start_date,\n",
    "    s.endDate as end_date,\n",
    "    s.cancelledFlag\n",
    "FROM gold.gold_cw_fact_agreement_summary s\n",
    "\"\"\")\n",
    "\n",
    "# 5. Revenue Mix Analysis - Materialized View\n",
    "spark.sql(\"\"\"\n",
    "CREATE OR REPLACE MATERIALIZED VIEW gold.mv_revenue_mix_analysis AS\n",
    "SELECT DATE_FORMAT(l.date, 'yyyy-MM') as revenue_month,l.companyId,\n",
    "    -- Revenue breakdown\n",
    "    SUM(CASE WHEN l.isService THEN l.lineAmount ELSE 0 END) as service_revenue,\n",
    "    SUM(CASE WHEN l.isProduct THEN l.lineAmount ELSE 0 END) as product_revenue,\n",
    "    SUM(CASE WHEN l.isAgreement THEN l.lineAmount ELSE 0 END) as agreement_revenue,\n",
    "    SUM(l.lineAmount) as total_revenue,\n",
    "    -- Mix percentages\n",
    "    ROUND(SUM(CASE WHEN l.isService THEN l.lineAmount ELSE 0 END) / SUM(l.lineAmount) *\n",
    "100, 2) as service_pct,\n",
    "    ROUND(SUM(CASE WHEN l.isProduct THEN l.lineAmount ELSE 0 END) / SUM(l.lineAmount) *\n",
    "100, 2) as product_pct,\n",
    "    ROUND(SUM(CASE WHEN l.isAgreement THEN l.lineAmount ELSE 0 END) / SUM(l.lineAmount) *\n",
    "100, 2) as agreement_pct,\n",
    "    -- Volume metrics\n",
    "    COUNT(CASE WHEN l.isService THEN 1 END) as service_line_count,\n",
    "    COUNT(CASE WHEN l.isProduct THEN 1 END) as product_line_count,\n",
    "    COUNT(CASE WHEN l.isAgreement THEN 1 END) as agreement_line_count,\n",
    "    -- Margin analysis\n",
    "    AVG(CASE WHEN l.isService THEN l.marginPercentage END) as avg_service_margin_pct,\n",
    "    AVG(CASE WHEN l.isProduct THEN l.marginPercentage END) as avg_product_margin_pct\n",
    "FROM gold.gold_cw_fact_invoice_line l\n",
    "GROUP BY DATE_FORMAT(l.date, 'yyyy-MM'), l.companyId\n",
    "HAVING total_revenue > 0\n",
    "\"\"\")\n",
    "\n",
    "print(\"✅ Created 5 BI Materialized Views:\")\n",
    "print(\"📊 mv_monthly_revenue_dashboard - MRR tracking and growth metrics\")\n",
    "print(\"👥 mv_customer_revenue_analysis - Customer lifetime value and segmentation\")\n",
    "print(\"⏰ mv_resource_utilization - Employee productivity and billing efficiency\")\n",
    "print(\"📋 mv_agreement_performance - Agreement ROI and realization\")\n",
    "print(\"🎯 mv_revenue_mix_analysis - Service vs Product revenue trends\")\n",
    "\n",
    "print(\"\\n🔍 Quick data quality check:\")\n",
    "print(\"Let's spot check the monthly revenue dashboard...\")\n",
    "\n",
    "# Quick data validation\n",
    "display(\n",
    "    spark.sql(\"\"\"\n",
    "    SELECT revenue_month, active_agreements, total_mrr, new_mrr, churned_mrr\n",
    "    FROM gold.mv_monthly_revenue_dashboard\n",
    "    ORDER BY revenue_month DESC\n",
    "    LIMIT 10\n",
    "\"\"\")\n",
    ")"
   ]
  }
 ],
 "metadata": {
  "dependencies": {
   "lakehouse": {
    "default_lakehouse": "22176b2b-5fe3-46bb-8b0a-193e1356c3cf",
    "default_lakehouse_name": "Lakehouse",
    "default_lakehouse_workspace_id": "a3a23dd7-9f52-4b88-b056-46da3617c0b2",
    "known_lakehouses": [
     {
      "id": "22176b2b-5fe3-46bb-8b0a-193e1356c3cf"
     }
    ]
   }
  },
  "kernel_info": {
   "name": "synapse_pyspark"
  },
  "kernelspec": {
   "display_name": "Synapse PySpark",
   "language": "Python",
   "name": "synapse_pyspark"
  },
  "language_info": {
   "name": "python"
  },
  "microsoft": {
   "language": "python",
   "language_group": "synapse_pyspark",
   "ms_spell_check": {
    "ms_spell_check_language": "en"
   }
  },
  "nteract": {
   "version": "nteract-front-end@1.0.0"
  },
  "spark_compute": {
   "compute_id": "/trident/default",
   "session_options": {
    "conf": {
     "spark.synapse.nbs.session.timeout": "1200000"
    }
   }
  }
 },
 "nbformat": 4,
 "nbformat_minor": 5
}